{
 "cells": [
  {
   "cell_type": "markdown",
   "metadata": {},
   "source": [
    "# Knn in Amazon Fine Food Reviews Analysis -40 K datapoints"
   ]
  },
  {
   "cell_type": "markdown",
   "metadata": {},
   "source": [
    "Data Source: https://www.kaggle.com/snap/amazon-fine-food-reviews\n",
    "\n",
    "The Amazon Fine Food Reviews dataset consists of reviews of fine foods from Amazon.<br>\n",
    "\n",
    "Number of reviews: 568,454<br>\n",
    "Number of users: 256,059<br>\n",
    "Number of products: 74,258<br>\n",
    "Timespan: Oct 1999 - Oct 2012<br>\n",
    "Number of Attributes/Columns in data: 10 \n",
    "\n",
    "Attribute Information:\n",
    "\n",
    "1. Id\n",
    "2. ProductId - unique identifier for the product\n",
    "3. UserId - unqiue identifier for the user\n",
    "4. ProfileName\n",
    "5. HelpfulnessNumerator - number of users who found the review helpful\n",
    "6. HelpfulnessDenominator - number of users who indicated whether they found the review helpful or not\n",
    "7. Score - rating between 1 and 5\n",
    "8. Time - timestamp for the review\n",
    "9. Summary - brief summary of the review\n",
    "10. Text - text of the review"
   ]
  },
  {
   "cell_type": "markdown",
   "metadata": {},
   "source": [
    "# Objective :-"
   ]
  },
  {
   "cell_type": "markdown",
   "metadata": {},
   "source": [
    "Applied K-Nearest Neighbour on Different Featurization of Data  BOW, tfidf, Avg-Word2Vec and tf-idf-Word2Vec and check the performace meauserment for evaluate the accuracy of a classification \n",
    "1. Sort the data using time based\n",
    "2. Take random sample data if we donot have that much RAM.\n",
    "3. Use 10-fold cross validation method on train and cross_vaidation dataset .\n",
    "4. For Optimal K find the accuracy in test dataset in each technique(BOW,TFIDF,Avg w2v,Tfidf-w2v)"
   ]
  },
  {
   "cell_type": "code",
   "execution_count": 1,
   "metadata": {},
   "outputs": [],
   "source": [
    "import os"
   ]
  },
  {
   "cell_type": "code",
   "execution_count": 2,
   "metadata": {},
   "outputs": [
    {
     "data": {
      "text/plain": [
       "'C:\\\\Users\\\\Nicky\\\\Desktop\\\\my work\\\\K_NN'"
      ]
     },
     "execution_count": 2,
     "metadata": {},
     "output_type": "execute_result"
    }
   ],
   "source": [
    "os.getcwd()"
   ]
  },
  {
   "cell_type": "code",
   "execution_count": 4,
   "metadata": {},
   "outputs": [],
   "source": [
    "#Importing the nessary library for this assignement .\n",
    "import numpy as np\n",
    "import pandas as pd\n",
    "import sqlite3 as sql\n",
    "from time import time\n",
    "import pickle\n",
    "import random\n",
    "import gensim\n",
    "import warnings\n",
    "import matplotlib.pyplot as plt\n",
    "from sklearn.cross_validation import train_test_split\n",
    "from sklearn.neighbors import KNeighborsClassifier\n",
    "from sklearn.metrics import accuracy_score\n",
    "from sklearn.cross_validation import cross_val_score\n",
    "from collections import Counter\n",
    "from sklearn.metrics import accuracy_score\n",
    "from sklearn import cross_validation\n",
    "warnings.filterwarnings(\"ignore\")\n",
    "\n",
    "#Peforemance measurment techniques\n",
    "from sklearn.metrics import accuracy_score\n",
    "from sklearn.metrics import confusion_matrix\n",
    "from sklearn.metrics import precision_score\n",
    "from sklearn.metrics import f1_score\n",
    "from sklearn.metrics import recall_score"
   ]
  },
  {
   "cell_type": "markdown",
   "metadata": {},
   "source": [
    "# confusion_matrix"
   ]
  },
  {
   "cell_type": "markdown",
   "metadata": {},
   "source": [
    "Compute confusion matrix to evaluate the accuracy of a classification\n",
    "\n",
    "By definition a confusion matrix C is such that C_{i, j} is equal to the number of observations known to be in group i but predicted to be in group j.\n",
    "\n",
    "Thus in binary classification, the count of true negatives is C_{0,0}, false negatives is C_{1,0}, true positives is C_{1,1} and false positives is C_{0,1}."
   ]
  },
  {
   "cell_type": "markdown",
   "metadata": {},
   "source": [
    "# precision_score"
   ]
  },
  {
   "cell_type": "markdown",
   "metadata": {},
   "source": [
    "Compute the precision\n",
    "\n",
    "The precision is the ratio tp / (tp + fp) where tp is the number of true positives and fp the number of false positives. The precision is intuitively the ability of the classifier not to label as positive a sample that is negative.\n",
    "\n",
    "The best value is 1 and the worst value is 0"
   ]
  },
  {
   "cell_type": "markdown",
   "metadata": {},
   "source": [
    "# Recall_score"
   ]
  },
  {
   "cell_type": "markdown",
   "metadata": {},
   "source": [
    "The recall is the ratio tp / (tp + fn) where tp is the number of true positives and fn the number of false negatives. The recall is intuitively the ability of the classifier to find all the positive samples.\n",
    "\n",
    "The best value is 1 and the worst value is 0."
   ]
  },
  {
   "cell_type": "markdown",
   "metadata": {},
   "source": [
    "# f1_score"
   ]
  },
  {
   "cell_type": "markdown",
   "metadata": {},
   "source": [
    "The F1 score can be interpreted as a weighted average of the precision and recall, where an F1 score reaches its best value at 1 and worst score at 0. The relative contribution of precision and recall to the F1 score are equal. The formula for the F1 score is:\n",
    "\n",
    "F1 = 2 * (precision * recall) / (precision + recall)\n",
    "In the multi-class and multi-label case, this is the weighted average of the F1 score of each class."
   ]
  },
  {
   "cell_type": "markdown",
   "metadata": {},
   "source": [
    "# Serializing and De-serialzing of data"
   ]
  },
  {
   "cell_type": "code",
   "execution_count": 5,
   "metadata": {},
   "outputs": [],
   "source": [
    "#Functions to save objects for later use and retireve it\n",
    "import pickle\n",
    "def export(obj,filename):\n",
    "    pickle.dump(obj,open(filename+\".dmp\",\"wb\"))\n",
    "def import1(filename):\n",
    "    temp = pickle.load(open(filename+\".dmp\",\"rb\"))\n",
    "    return temp"
   ]
  },
  {
   "cell_type": "markdown",
   "metadata": {},
   "source": [
    "# Loading the cleaned data"
   ]
  },
  {
   "cell_type": "code",
   "execution_count": 6,
   "metadata": {},
   "outputs": [
    {
     "data": {
      "text/html": [
       "<div>\n",
       "<style scoped>\n",
       "    .dataframe tbody tr th:only-of-type {\n",
       "        vertical-align: middle;\n",
       "    }\n",
       "\n",
       "    .dataframe tbody tr th {\n",
       "        vertical-align: top;\n",
       "    }\n",
       "\n",
       "    .dataframe thead th {\n",
       "        text-align: right;\n",
       "    }\n",
       "</style>\n",
       "<table border=\"1\" class=\"dataframe\">\n",
       "  <thead>\n",
       "    <tr style=\"text-align: right;\">\n",
       "      <th></th>\n",
       "      <th>index</th>\n",
       "      <th>Id</th>\n",
       "      <th>ProductId</th>\n",
       "      <th>UserId</th>\n",
       "      <th>ProfileName</th>\n",
       "      <th>HelpfulnessNumerator</th>\n",
       "      <th>HelpfulnessDenominator</th>\n",
       "      <th>Score</th>\n",
       "      <th>Time</th>\n",
       "      <th>Summary</th>\n",
       "      <th>Text</th>\n",
       "      <th>CleanedText</th>\n",
       "    </tr>\n",
       "  </thead>\n",
       "  <tbody>\n",
       "    <tr>\n",
       "      <th>0</th>\n",
       "      <td>150528</td>\n",
       "      <td>150529</td>\n",
       "      <td>0006641040</td>\n",
       "      <td>A25ACLV5KPB4W</td>\n",
       "      <td>Matt Hetling \"Matt\"</td>\n",
       "      <td>0</td>\n",
       "      <td>1</td>\n",
       "      <td>positive</td>\n",
       "      <td>1108425600</td>\n",
       "      <td>Nice cadence, catchy rhymes</td>\n",
       "      <td>In June&lt;br /&gt;I saw a charming group&lt;br /&gt;of ro...</td>\n",
       "      <td>b'june saw charm group rose begin droop pep ch...</td>\n",
       "    </tr>\n",
       "    <tr>\n",
       "      <th>1</th>\n",
       "      <td>150506</td>\n",
       "      <td>150507</td>\n",
       "      <td>0006641040</td>\n",
       "      <td>A1S4A3IQ2MU7V4</td>\n",
       "      <td>sally sue \"sally sue\"</td>\n",
       "      <td>1</td>\n",
       "      <td>1</td>\n",
       "      <td>positive</td>\n",
       "      <td>1191456000</td>\n",
       "      <td>chicken soup with rice months</td>\n",
       "      <td>This is a fun way for children to learn their ...</td>\n",
       "      <td>b'fun way children learn month year learn poem...</td>\n",
       "    </tr>\n",
       "    <tr>\n",
       "      <th>2</th>\n",
       "      <td>150505</td>\n",
       "      <td>150506</td>\n",
       "      <td>0006641040</td>\n",
       "      <td>A2IW4PEEKO2R0U</td>\n",
       "      <td>Tracy</td>\n",
       "      <td>1</td>\n",
       "      <td>1</td>\n",
       "      <td>positive</td>\n",
       "      <td>1194739200</td>\n",
       "      <td>Love the book, miss the hard cover version</td>\n",
       "      <td>I grew up reading these Sendak books, and watc...</td>\n",
       "      <td>b'grew read sendak book watch realli rosi movi...</td>\n",
       "    </tr>\n",
       "    <tr>\n",
       "      <th>3</th>\n",
       "      <td>150504</td>\n",
       "      <td>150505</td>\n",
       "      <td>0006641040</td>\n",
       "      <td>A2PTSM496CF40Z</td>\n",
       "      <td>Jason A. Teeple \"Nobody made a greater mistak...</td>\n",
       "      <td>1</td>\n",
       "      <td>1</td>\n",
       "      <td>positive</td>\n",
       "      <td>1210809600</td>\n",
       "      <td>A classic</td>\n",
       "      <td>Get the movie or sound track and sing along wi...</td>\n",
       "      <td>b'get movi sound track sing along carol king g...</td>\n",
       "    </tr>\n",
       "    <tr>\n",
       "      <th>4</th>\n",
       "      <td>150503</td>\n",
       "      <td>150504</td>\n",
       "      <td>0006641040</td>\n",
       "      <td>AQEYF1AXARWJZ</td>\n",
       "      <td>Les Sinclair \"book maven\"</td>\n",
       "      <td>1</td>\n",
       "      <td>1</td>\n",
       "      <td>positive</td>\n",
       "      <td>1212278400</td>\n",
       "      <td>Chicken Soup with Rice</td>\n",
       "      <td>A very entertaining rhyming story--cleaver and...</td>\n",
       "      <td>b'entertain rhyme catchi illustr imagin fit ri...</td>\n",
       "    </tr>\n",
       "  </tbody>\n",
       "</table>\n",
       "</div>"
      ],
      "text/plain": [
       "    index      Id   ProductId          UserId  \\\n",
       "0  150528  150529  0006641040   A25ACLV5KPB4W   \n",
       "1  150506  150507  0006641040  A1S4A3IQ2MU7V4   \n",
       "2  150505  150506  0006641040  A2IW4PEEKO2R0U   \n",
       "3  150504  150505  0006641040  A2PTSM496CF40Z   \n",
       "4  150503  150504  0006641040   AQEYF1AXARWJZ   \n",
       "\n",
       "                                        ProfileName  HelpfulnessNumerator  \\\n",
       "0                               Matt Hetling \"Matt\"                     0   \n",
       "1                             sally sue \"sally sue\"                     1   \n",
       "2                                             Tracy                     1   \n",
       "3  Jason A. Teeple \"Nobody made a greater mistak...                     1   \n",
       "4                         Les Sinclair \"book maven\"                     1   \n",
       "\n",
       "   HelpfulnessDenominator     Score        Time  \\\n",
       "0                       1  positive  1108425600   \n",
       "1                       1  positive  1191456000   \n",
       "2                       1  positive  1194739200   \n",
       "3                       1  positive  1210809600   \n",
       "4                       1  positive  1212278400   \n",
       "\n",
       "                                      Summary  \\\n",
       "0                 Nice cadence, catchy rhymes   \n",
       "1               chicken soup with rice months   \n",
       "2  Love the book, miss the hard cover version   \n",
       "3                                   A classic   \n",
       "4                      Chicken Soup with Rice   \n",
       "\n",
       "                                                Text  \\\n",
       "0  In June<br />I saw a charming group<br />of ro...   \n",
       "1  This is a fun way for children to learn their ...   \n",
       "2  I grew up reading these Sendak books, and watc...   \n",
       "3  Get the movie or sound track and sing along wi...   \n",
       "4  A very entertaining rhyming story--cleaver and...   \n",
       "\n",
       "                                         CleanedText  \n",
       "0  b'june saw charm group rose begin droop pep ch...  \n",
       "1  b'fun way children learn month year learn poem...  \n",
       "2  b'grew read sendak book watch realli rosi movi...  \n",
       "3  b'get movi sound track sing along carol king g...  \n",
       "4  b'entertain rhyme catchi illustr imagin fit ri...  "
      ]
     },
     "execution_count": 6,
     "metadata": {},
     "output_type": "execute_result"
    }
   ],
   "source": [
    "#Using sqlite3 to retrieve data from sqlite file\n",
    "\n",
    "con = sql.connect(\"final.sqlite\")#Loading Cleaned/ Preprocesed text that we did in Text Preprocessing\n",
    "\n",
    "#Using pandas functions to query from sql table\n",
    "food1 = pd.read_sql_query(\"\"\"\n",
    "SELECT * FROM Reviews \n",
    "\"\"\",con)\n",
    "\n",
    "#Reviews is the name of the table given\n",
    "#Taking only the data where score != 3 as score 3 will be neutral and it won't help us much\n",
    "food1.head()"
   ]
  },
  {
   "cell_type": "code",
   "execution_count": 7,
   "metadata": {},
   "outputs": [
    {
     "data": {
      "text/html": [
       "<div>\n",
       "<style scoped>\n",
       "    .dataframe tbody tr th:only-of-type {\n",
       "        vertical-align: middle;\n",
       "    }\n",
       "\n",
       "    .dataframe tbody tr th {\n",
       "        vertical-align: top;\n",
       "    }\n",
       "\n",
       "    .dataframe thead th {\n",
       "        text-align: right;\n",
       "    }\n",
       "</style>\n",
       "<table border=\"1\" class=\"dataframe\">\n",
       "  <thead>\n",
       "    <tr style=\"text-align: right;\">\n",
       "      <th></th>\n",
       "      <th>index</th>\n",
       "      <th>Id</th>\n",
       "      <th>ProductId</th>\n",
       "      <th>UserId</th>\n",
       "      <th>ProfileName</th>\n",
       "      <th>HelpfulnessNumerator</th>\n",
       "      <th>HelpfulnessDenominator</th>\n",
       "      <th>Score</th>\n",
       "      <th>Time</th>\n",
       "      <th>Summary</th>\n",
       "      <th>Text</th>\n",
       "      <th>CleanedText</th>\n",
       "    </tr>\n",
       "  </thead>\n",
       "  <tbody>\n",
       "    <tr>\n",
       "      <th>272</th>\n",
       "      <td>374381</td>\n",
       "      <td>374382</td>\n",
       "      <td>B00004CI84</td>\n",
       "      <td>A3C3BAQDZWH5YE</td>\n",
       "      <td>Kushana no shinryaku (Kushana's invasion)</td>\n",
       "      <td>0</td>\n",
       "      <td>1</td>\n",
       "      <td>positive</td>\n",
       "      <td>1014681600</td>\n",
       "      <td>...</td>\n",
       "      <td>It was on the other night, and, having been a ...</td>\n",
       "      <td>b'night big fan cartoon shown decid watch also...</td>\n",
       "    </tr>\n",
       "    <tr>\n",
       "      <th>1082</th>\n",
       "      <td>479722</td>\n",
       "      <td>479723</td>\n",
       "      <td>B00005U2FA</td>\n",
       "      <td>A3TO9GEQEGKFDC</td>\n",
       "      <td>N. Smith \"emerald999\"</td>\n",
       "      <td>35</td>\n",
       "      <td>35</td>\n",
       "      <td>positive</td>\n",
       "      <td>1020211200</td>\n",
       "      <td>I love this thing</td>\n",
       "      <td>The wine saver is great in so many ways. Obvio...</td>\n",
       "      <td>b'wine saver great mani way obvious wonder abl...</td>\n",
       "    </tr>\n",
       "    <tr>\n",
       "      <th>3308</th>\n",
       "      <td>323602</td>\n",
       "      <td>323603</td>\n",
       "      <td>B0000CNU5A</td>\n",
       "      <td>A2WNWOJDL0A81</td>\n",
       "      <td>Jonathan Sprenke</td>\n",
       "      <td>1</td>\n",
       "      <td>2</td>\n",
       "      <td>positive</td>\n",
       "      <td>1065398400</td>\n",
       "      <td>mmmmmm salty</td>\n",
       "      <td>This product reminds me of a thousand lunches ...</td>\n",
       "      <td>b'product remind thousand lunch chicken teriya...</td>\n",
       "    </tr>\n",
       "    <tr>\n",
       "      <th>6318</th>\n",
       "      <td>11990</td>\n",
       "      <td>11991</td>\n",
       "      <td>B0000T15M8</td>\n",
       "      <td>A2928LJN5IISB4</td>\n",
       "      <td>chatchi</td>\n",
       "      <td>5</td>\n",
       "      <td>5</td>\n",
       "      <td>positive</td>\n",
       "      <td>1067990400</td>\n",
       "      <td>The fruits of my labor</td>\n",
       "      <td>When chatchi's favorite afternoon treat became...</td>\n",
       "      <td>b'chatchi favorit afternoon treat becam myster...</td>\n",
       "    </tr>\n",
       "    <tr>\n",
       "      <th>2369</th>\n",
       "      <td>30627</td>\n",
       "      <td>30628</td>\n",
       "      <td>B00008RCMI</td>\n",
       "      <td>A3AKWA5CWSKOOH</td>\n",
       "      <td>Ilaxi S. Patel \"Editor, kidsfreesouls.com &amp; A...</td>\n",
       "      <td>0</td>\n",
       "      <td>0</td>\n",
       "      <td>positive</td>\n",
       "      <td>1068076800</td>\n",
       "      <td>Refreshing Mouth Freshner!</td>\n",
       "      <td>A tennis player hubby of mine got this pack on...</td>\n",
       "      <td>b'tenni player hubbi mine got pack rack opel c...</td>\n",
       "    </tr>\n",
       "  </tbody>\n",
       "</table>\n",
       "</div>"
      ],
      "text/plain": [
       "       index      Id   ProductId          UserId  \\\n",
       "272   374381  374382  B00004CI84  A3C3BAQDZWH5YE   \n",
       "1082  479722  479723  B00005U2FA  A3TO9GEQEGKFDC   \n",
       "3308  323602  323603  B0000CNU5A   A2WNWOJDL0A81   \n",
       "6318   11990   11991  B0000T15M8  A2928LJN5IISB4   \n",
       "2369   30627   30628  B00008RCMI  A3AKWA5CWSKOOH   \n",
       "\n",
       "                                           ProfileName  HelpfulnessNumerator  \\\n",
       "272          Kushana no shinryaku (Kushana's invasion)                     0   \n",
       "1082                             N. Smith \"emerald999\"                    35   \n",
       "3308                                  Jonathan Sprenke                     1   \n",
       "6318                                           chatchi                     5   \n",
       "2369  Ilaxi S. Patel \"Editor, kidsfreesouls.com & A...                     0   \n",
       "\n",
       "      HelpfulnessDenominator     Score        Time  \\\n",
       "272                        1  positive  1014681600   \n",
       "1082                      35  positive  1020211200   \n",
       "3308                       2  positive  1065398400   \n",
       "6318                       5  positive  1067990400   \n",
       "2369                       0  positive  1068076800   \n",
       "\n",
       "                         Summary  \\\n",
       "272                          ...   \n",
       "1082           I love this thing   \n",
       "3308                mmmmmm salty   \n",
       "6318      The fruits of my labor   \n",
       "2369  Refreshing Mouth Freshner!   \n",
       "\n",
       "                                                   Text  \\\n",
       "272   It was on the other night, and, having been a ...   \n",
       "1082  The wine saver is great in so many ways. Obvio...   \n",
       "3308  This product reminds me of a thousand lunches ...   \n",
       "6318  When chatchi's favorite afternoon treat became...   \n",
       "2369  A tennis player hubby of mine got this pack on...   \n",
       "\n",
       "                                            CleanedText  \n",
       "272   b'night big fan cartoon shown decid watch also...  \n",
       "1082  b'wine saver great mani way obvious wonder abl...  \n",
       "3308  b'product remind thousand lunch chicken teriya...  \n",
       "6318  b'chatchi favorit afternoon treat becam myster...  \n",
       "2369  b'tenni player hubbi mine got pack rack opel c...  "
      ]
     },
     "execution_count": 7,
     "metadata": {},
     "output_type": "execute_result"
    }
   ],
   "source": [
    "#help(food1.sample)\n",
    "food1_sample=food1.sample(n=40000) #Taking 40k random sample from hole dataset\n",
    "food1_sample.sort_values('Time',inplace=True)\n",
    "food1_sample.head(5)\n"
   ]
  },
  {
   "cell_type": "code",
   "execution_count": 8,
   "metadata": {},
   "outputs": [
    {
     "data": {
      "text/html": [
       "<div>\n",
       "<style scoped>\n",
       "    .dataframe tbody tr th:only-of-type {\n",
       "        vertical-align: middle;\n",
       "    }\n",
       "\n",
       "    .dataframe tbody tr th {\n",
       "        vertical-align: top;\n",
       "    }\n",
       "\n",
       "    .dataframe thead th {\n",
       "        text-align: right;\n",
       "    }\n",
       "</style>\n",
       "<table border=\"1\" class=\"dataframe\">\n",
       "  <thead>\n",
       "    <tr style=\"text-align: right;\">\n",
       "      <th></th>\n",
       "      <th>index</th>\n",
       "      <th>Id</th>\n",
       "      <th>ProductId</th>\n",
       "      <th>UserId</th>\n",
       "      <th>ProfileName</th>\n",
       "      <th>HelpfulnessNumerator</th>\n",
       "      <th>HelpfulnessDenominator</th>\n",
       "      <th>Time</th>\n",
       "      <th>Summary</th>\n",
       "      <th>Text</th>\n",
       "      <th>CleanedText</th>\n",
       "    </tr>\n",
       "    <tr>\n",
       "      <th>Score</th>\n",
       "      <th></th>\n",
       "      <th></th>\n",
       "      <th></th>\n",
       "      <th></th>\n",
       "      <th></th>\n",
       "      <th></th>\n",
       "      <th></th>\n",
       "      <th></th>\n",
       "      <th></th>\n",
       "      <th></th>\n",
       "      <th></th>\n",
       "    </tr>\n",
       "  </thead>\n",
       "  <tbody>\n",
       "    <tr>\n",
       "      <th>negative</th>\n",
       "      <td>5774</td>\n",
       "      <td>5774</td>\n",
       "      <td>5774</td>\n",
       "      <td>5774</td>\n",
       "      <td>5774</td>\n",
       "      <td>5774</td>\n",
       "      <td>5774</td>\n",
       "      <td>5774</td>\n",
       "      <td>5774</td>\n",
       "      <td>5774</td>\n",
       "      <td>5774</td>\n",
       "    </tr>\n",
       "    <tr>\n",
       "      <th>positive</th>\n",
       "      <td>34226</td>\n",
       "      <td>34226</td>\n",
       "      <td>34226</td>\n",
       "      <td>34226</td>\n",
       "      <td>34226</td>\n",
       "      <td>34226</td>\n",
       "      <td>34226</td>\n",
       "      <td>34226</td>\n",
       "      <td>34226</td>\n",
       "      <td>34226</td>\n",
       "      <td>34226</td>\n",
       "    </tr>\n",
       "  </tbody>\n",
       "</table>\n",
       "</div>"
      ],
      "text/plain": [
       "          index     Id  ProductId  UserId  ProfileName  HelpfulnessNumerator  \\\n",
       "Score                                                                          \n",
       "negative   5774   5774       5774    5774         5774                  5774   \n",
       "positive  34226  34226      34226   34226        34226                 34226   \n",
       "\n",
       "          HelpfulnessDenominator   Time  Summary   Text  CleanedText  \n",
       "Score                                                                 \n",
       "negative                    5774   5774     5774   5774         5774  \n",
       "positive                   34226  34226    34226  34226        34226  "
      ]
     },
     "execution_count": 8,
     "metadata": {},
     "output_type": "execute_result"
    }
   ],
   "source": [
    "food1_sample.groupby('Score').count()"
   ]
  },
  {
   "cell_type": "code",
   "execution_count": 9,
   "metadata": {},
   "outputs": [],
   "source": [
    "#Save the sample file in destop for fruther use .\n",
    "export(food1_sample,'food1_sample')"
   ]
  },
  {
   "cell_type": "markdown",
   "metadata": {},
   "source": [
    "#here we can able to see the 'Score/Lable' is in the word format , but after converting word in vector it will not help to us.\n",
    "so we are convering the score in to numerical format .\n",
    "e.i :-    positive =1\n",
    "      and negative =0"
   ]
  },
  {
   "cell_type": "code",
   "execution_count": 10,
   "metadata": {},
   "outputs": [],
   "source": [
    "food1_sample=import1('food1_sample')"
   ]
  },
  {
   "cell_type": "code",
   "execution_count": 11,
   "metadata": {},
   "outputs": [
    {
     "data": {
      "text/html": [
       "<div>\n",
       "<style scoped>\n",
       "    .dataframe tbody tr th:only-of-type {\n",
       "        vertical-align: middle;\n",
       "    }\n",
       "\n",
       "    .dataframe tbody tr th {\n",
       "        vertical-align: top;\n",
       "    }\n",
       "\n",
       "    .dataframe thead th {\n",
       "        text-align: right;\n",
       "    }\n",
       "</style>\n",
       "<table border=\"1\" class=\"dataframe\">\n",
       "  <thead>\n",
       "    <tr style=\"text-align: right;\">\n",
       "      <th></th>\n",
       "      <th>index</th>\n",
       "      <th>Id</th>\n",
       "      <th>ProductId</th>\n",
       "      <th>UserId</th>\n",
       "      <th>ProfileName</th>\n",
       "      <th>HelpfulnessNumerator</th>\n",
       "      <th>HelpfulnessDenominator</th>\n",
       "      <th>Score</th>\n",
       "      <th>Time</th>\n",
       "      <th>Summary</th>\n",
       "      <th>Text</th>\n",
       "      <th>CleanedText</th>\n",
       "    </tr>\n",
       "  </thead>\n",
       "  <tbody>\n",
       "    <tr>\n",
       "      <th>272</th>\n",
       "      <td>374381</td>\n",
       "      <td>374382</td>\n",
       "      <td>B00004CI84</td>\n",
       "      <td>A3C3BAQDZWH5YE</td>\n",
       "      <td>Kushana no shinryaku (Kushana's invasion)</td>\n",
       "      <td>0</td>\n",
       "      <td>1</td>\n",
       "      <td>1</td>\n",
       "      <td>1014681600</td>\n",
       "      <td>...</td>\n",
       "      <td>It was on the other night, and, having been a ...</td>\n",
       "      <td>b'night big fan cartoon shown decid watch also...</td>\n",
       "    </tr>\n",
       "    <tr>\n",
       "      <th>1082</th>\n",
       "      <td>479722</td>\n",
       "      <td>479723</td>\n",
       "      <td>B00005U2FA</td>\n",
       "      <td>A3TO9GEQEGKFDC</td>\n",
       "      <td>N. Smith \"emerald999\"</td>\n",
       "      <td>35</td>\n",
       "      <td>35</td>\n",
       "      <td>1</td>\n",
       "      <td>1020211200</td>\n",
       "      <td>I love this thing</td>\n",
       "      <td>The wine saver is great in so many ways. Obvio...</td>\n",
       "      <td>b'wine saver great mani way obvious wonder abl...</td>\n",
       "    </tr>\n",
       "    <tr>\n",
       "      <th>3308</th>\n",
       "      <td>323602</td>\n",
       "      <td>323603</td>\n",
       "      <td>B0000CNU5A</td>\n",
       "      <td>A2WNWOJDL0A81</td>\n",
       "      <td>Jonathan Sprenke</td>\n",
       "      <td>1</td>\n",
       "      <td>2</td>\n",
       "      <td>1</td>\n",
       "      <td>1065398400</td>\n",
       "      <td>mmmmmm salty</td>\n",
       "      <td>This product reminds me of a thousand lunches ...</td>\n",
       "      <td>b'product remind thousand lunch chicken teriya...</td>\n",
       "    </tr>\n",
       "    <tr>\n",
       "      <th>5103</th>\n",
       "      <td>286452</td>\n",
       "      <td>286453</td>\n",
       "      <td>B0000DJ7WI</td>\n",
       "      <td>A375QRG43POEW6</td>\n",
       "      <td>dndnd</td>\n",
       "      <td>23</td>\n",
       "      <td>25</td>\n",
       "      <td>0</td>\n",
       "      <td>1069977600</td>\n",
       "      <td>Stay Away...</td>\n",
       "      <td>This product ships in great packaging and it l...</td>\n",
       "      <td>b'product ship great packag look good tast hor...</td>\n",
       "    </tr>\n",
       "    <tr>\n",
       "      <th>5551</th>\n",
       "      <td>170814</td>\n",
       "      <td>170815</td>\n",
       "      <td>B0000EIEWO</td>\n",
       "      <td>A3UU7SZXSZ2ZSB</td>\n",
       "      <td>David J. Dodson</td>\n",
       "      <td>9</td>\n",
       "      <td>12</td>\n",
       "      <td>0</td>\n",
       "      <td>1094688000</td>\n",
       "      <td>Good pears... bad service</td>\n",
       "      <td>I recently placed an order from this company a...</td>\n",
       "      <td>b'recent place order compani disappoint paid e...</td>\n",
       "    </tr>\n",
       "    <tr>\n",
       "      <th>1086</th>\n",
       "      <td>479726</td>\n",
       "      <td>479727</td>\n",
       "      <td>B00005U2FA</td>\n",
       "      <td>A1XDNOI4ZJM9AO</td>\n",
       "      <td>Jim</td>\n",
       "      <td>14</td>\n",
       "      <td>14</td>\n",
       "      <td>0</td>\n",
       "      <td>1101340800</td>\n",
       "      <td>Failed after 100</td>\n",
       "      <td>The Concerto worked well for about the first 5...</td>\n",
       "      <td>b'concerto work well first bottl seiz requir l...</td>\n",
       "    </tr>\n",
       "  </tbody>\n",
       "</table>\n",
       "</div>"
      ],
      "text/plain": [
       "       index      Id   ProductId          UserId  \\\n",
       "272   374381  374382  B00004CI84  A3C3BAQDZWH5YE   \n",
       "1082  479722  479723  B00005U2FA  A3TO9GEQEGKFDC   \n",
       "3308  323602  323603  B0000CNU5A   A2WNWOJDL0A81   \n",
       "5103  286452  286453  B0000DJ7WI  A375QRG43POEW6   \n",
       "5551  170814  170815  B0000EIEWO  A3UU7SZXSZ2ZSB   \n",
       "1086  479726  479727  B00005U2FA  A1XDNOI4ZJM9AO   \n",
       "\n",
       "                                    ProfileName  HelpfulnessNumerator  \\\n",
       "272   Kushana no shinryaku (Kushana's invasion)                     0   \n",
       "1082                      N. Smith \"emerald999\"                    35   \n",
       "3308                           Jonathan Sprenke                     1   \n",
       "5103                                      dndnd                    23   \n",
       "5551                            David J. Dodson                     9   \n",
       "1086                                        Jim                    14   \n",
       "\n",
       "      HelpfulnessDenominator  Score        Time                    Summary  \\\n",
       "272                        1      1  1014681600                        ...   \n",
       "1082                      35      1  1020211200          I love this thing   \n",
       "3308                       2      1  1065398400               mmmmmm salty   \n",
       "5103                      25      0  1069977600               Stay Away...   \n",
       "5551                      12      0  1094688000  Good pears... bad service   \n",
       "1086                      14      0  1101340800           Failed after 100   \n",
       "\n",
       "                                                   Text  \\\n",
       "272   It was on the other night, and, having been a ...   \n",
       "1082  The wine saver is great in so many ways. Obvio...   \n",
       "3308  This product reminds me of a thousand lunches ...   \n",
       "5103  This product ships in great packaging and it l...   \n",
       "5551  I recently placed an order from this company a...   \n",
       "1086  The Concerto worked well for about the first 5...   \n",
       "\n",
       "                                            CleanedText  \n",
       "272   b'night big fan cartoon shown decid watch also...  \n",
       "1082  b'wine saver great mani way obvious wonder abl...  \n",
       "3308  b'product remind thousand lunch chicken teriya...  \n",
       "5103  b'product ship great packag look good tast hor...  \n",
       "5551  b'recent place order compani disappoint paid e...  \n",
       "1086  b'concerto work well first bottl seiz requir l...  "
      ]
     },
     "execution_count": 11,
     "metadata": {},
     "output_type": "execute_result"
    }
   ],
   "source": [
    "def label(x):\n",
    "    if x == \"positive\":\n",
    "        return 1\n",
    "    else:\n",
    "        return 0\n",
    "food1_sample[\"Score\"] = food1_sample[\"Score\"].map(label) #Map all the scores as the function polarity i.e. positive or negative\n",
    "\n",
    "export(food1_sample,'food1_sample')\n",
    "\n",
    "food1_sample.groupby('Score').head(3)"
   ]
  },
  {
   "cell_type": "markdown",
   "metadata": {},
   "source": [
    "# Bag of Words (BoW)"
   ]
  },
  {
   "cell_type": "markdown",
   "metadata": {},
   "source": [
    "1. The bag-of-words model is a simplifying representation used in natural language processing and information retrieval (IR). Also known as the vector space model. In this model, a text (such as a sentence or a document) is represented as the bag (multiset) of its words, disregarding grammar and even word order but keeping multiplicity. The bag-of-words model has also been used for computer vision.\n",
    "​\n",
    "2. The bag-of-words model is commonly used in methods of document classification where the (frequency of) occurrence of each word is used as a feature for training a classifier.\n",
    "​\n",
    "3. An early reference to \"bag of words\" in a linguistic context can be found in Zellig Harris's 1954 article on Distributional Structure"
   ]
  },
  {
   "cell_type": "markdown",
   "metadata": {},
   "source": [
    "Example implementation\n",
    "The following models a text document using bag-of-words. Here are two simple text documents:\n",
    "\n",
    "(1) John likes to watch movies. Mary likes movies too.\n",
    "(2) John also likes to watch football games.\n",
    "Based on these two text documents, a list constructed as follows for each document:\n",
    "\n",
    "\"John\",\"likes\",\"to\",\"watch\",\"movies\",\"Mary\",\"likes\",\"movies\",\"too\"\n",
    "\n",
    "\"John\",\"also\",\"likes\",\"to\",\"watch\",\"football\",\"games\"\n",
    "Representing each bag-of-words as a JSON object, and attributing to the respective Javascript variable:\n",
    "\n",
    "BoW1 = {\"John\":1,\"likes\":2,\"to\":1,\"watch\":1,\"movies\":2,\"Mary\":1,\"too\":1};\n",
    "BoW2 = {\"John\":1,\"also\":1,\"likes\":1,\"to\":1,\"watch\":1,\"football\":1,\"games\":1};\n",
    "Each key is the word, and each value is the number of occurrences of that word in the given text document.\n",
    "\n",
    "The order of elements is free, so, for example {\"too\":1,\"Mary\":1,\"movies\":2,\"John\":1,\"watch\":1,\"likes\":2,\"to\":1} is also BoW1. It is also what we expect from a strict JSON object representation.\n",
    "\n",
    "Note: if another document is like a union of these two,\n",
    "\n",
    "(3) John likes to watch movies. Mary likes movies too. John also likes to watch football games.\n",
    "its Javascript representation will be:\n",
    "\n",
    "BoW3 = {\"John\":2,\"likes\":3,\"to\":2,\"watch\":2,\"movies\":2,\"Mary\":1,\"too\":1,\"also\":1,\"football\":1,\"games\":1};\n",
    "So, as we see in the bag algebra, the \"union\" of two documents in the bags-of-words representation is, formally, the disjoint union, summing the multiplicities of each element. \n",
    "{\\displaystyle BoW3=BoW1\\biguplus BoW2} {\\displaystyle BoW3=BoW1\\biguplus BoW2}."
   ]
  },
  {
   "cell_type": "code",
   "execution_count": 6,
   "metadata": {},
   "outputs": [],
   "source": [
    "food1_sample=import1('food1_sample') #load the data from deserilazing"
   ]
  },
  {
   "cell_type": "code",
   "execution_count": 13,
   "metadata": {},
   "outputs": [
    {
     "name": "stdout",
     "output_type": "stream",
     "text": [
      "b'onion nice larg crispi howev sweeter anticip person prefer savori onion maritini mean disappoint flavor love larg prefer cocktail onion littl sweet side fantast purchas onion receiv white brown packag well'\n",
      "*************************************\n",
      "1\n",
      "Train Data Size:  (28000, 512738)\n",
      "Test Data Size:  (12000, 512738)\n"
     ]
    }
   ],
   "source": [
    "from sklearn.feature_extraction.text import CountVectorizer\n",
    "from sklearn import preprocessing\n",
    "#Breaking into Train and test\n",
    "X_train, X_test, y_train, y_test = train_test_split(food1_sample['CleanedText'].values,food1_sample['Score'].values,test_size=0.3,random_state=0)\n",
    "print(X_train[0])\n",
    "print('*************************************')\n",
    "print(y_train[0])\n",
    "#Text -> bi gram Vectors\n",
    "bi_gram = CountVectorizer(ngram_range=(1,2)) \n",
    "X_train = bi_gram.fit_transform(X_train)      #fit the train data \n",
    "#Normalize Data\n",
    "X_train = preprocessing.normalize(X_train)\n",
    "print(\"Train Data Size: \",X_train.shape)\n",
    "X_test = bi_gram.transform(X_test)           #Only trasform the data as we are going to test the data in terms for predicting the correct class label\n",
    "#Normalize Data\n",
    "X_test = preprocessing.normalize(X_test)\n",
    "print(\"Test Data Size: \",X_test.shape)"
   ]
  },
  {
   "cell_type": "markdown",
   "metadata": {},
   "source": [
    "# Simple Cross Validation"
   ]
  },
  {
   "cell_type": "code",
   "execution_count": 14,
   "metadata": {},
   "outputs": [
    {
     "name": "stdout",
     "output_type": "stream",
     "text": [
      "\n",
      "CV accuracy for k = 1 is 81%\n",
      "\n",
      "CV accuracy for k = 3 is 85%\n",
      "\n",
      "CV accuracy for k = 5 is 85%\n",
      "\n",
      "CV accuracy for k = 7 is 86%\n",
      "\n",
      "CV accuracy for k = 9 is 86%\n",
      "\n",
      "CV accuracy for k = 11 is 86%\n",
      "\n",
      "CV accuracy for k = 13 is 86%\n",
      "\n",
      "CV accuracy for k = 15 is 86%\n",
      "\n",
      "CV accuracy for k = 17 is 86%\n",
      "\n",
      "CV accuracy for k = 19 is 86%\n",
      "\n",
      "CV accuracy for k = 21 is 87%\n",
      "\n",
      "CV accuracy for k = 23 is 86%\n",
      "\n",
      "CV accuracy for k = 25 is 86%\n",
      "\n",
      "CV accuracy for k = 27 is 86%\n",
      "\n",
      "CV accuracy for k = 29 is 86%\n"
     ]
    }
   ],
   "source": [
    "# split the train data set into cross validation train and cross validation test\n",
    "X_tr, X_cv, y_tr, y_cv = cross_validation.train_test_split(X_train, y_train, test_size=0.3)\n",
    "\n",
    "for i in range(1,30,2):\n",
    "    # instantiate learning model (k = 30)\n",
    "    knn = KNeighborsClassifier(n_neighbors=i)\n",
    "\n",
    "    # fitting the model on crossvalidation train\n",
    "    knn.fit(X_tr, y_tr)\n",
    "\n",
    "    # predict the response on the crossvalidation train\n",
    "    pred = knn.predict(X_cv)\n",
    "\n",
    "    # evaluate CV accuracy\n",
    "    acc = accuracy_score(y_cv, pred, normalize=True) * float(100)\n",
    "    print('\\nCV accuracy for k = %d is %d%%' % (i, acc))\n",
    "    \n"
   ]
  },
  {
   "cell_type": "markdown",
   "metadata": {},
   "source": [
    "Here we can able to see for knn 21 we are get accuracy of 87% in simple cross validation .\n",
    "Let us test the knn in Test dataset and check what is the accuracy lavel"
   ]
  },
  {
   "cell_type": "code",
   "execution_count": 16,
   "metadata": {},
   "outputs": [
    {
     "name": "stdout",
     "output_type": "stream",
     "text": [
      "\n",
      "****Test accuracy for k = 21 is 86%\n"
     ]
    }
   ],
   "source": [
    "knn = KNeighborsClassifier(21)\n",
    "knn.fit(X_train,y_train)\n",
    "pred = knn.predict(X_test)\n",
    "acc = accuracy_score(y_test, pred, normalize=True) * float(100)\n",
    "print('\\n****Test accuracy for k = 21 is %d%%' % (acc))"
   ]
  },
  {
   "cell_type": "markdown",
   "metadata": {},
   "source": [
    "# 10 fold cross validation On Bag of Words:-"
   ]
  },
  {
   "cell_type": "markdown",
   "metadata": {},
   "source": [
    "# Using brute-force Alogorithm :-"
   ]
  },
  {
   "cell_type": "code",
   "execution_count": 17,
   "metadata": {},
   "outputs": [
    {
     "name": "stdout",
     "output_type": "stream",
     "text": [
      "\n",
      "The optimal number of neighbors is 13.\n"
     ]
    },
    {
     "data": {
      "image/png": "[encoded data removed]",
      "text/plain": [
       "<Figure size 432x288 with 1 Axes>"
      ]
     },
     "metadata": {},
     "output_type": "display_data"
    },
    {
     "name": "stdout",
     "output_type": "stream",
     "text": [
      "the misclassification error of train-dataset for each k value is :  [0.1837 0.1492 0.1376 0.1345 0.1319 0.1309 0.1298 0.1305 0.1304 0.1302\n",
      " 0.1305 0.1301 0.1308 0.1313 0.1314 0.1312 0.1313 0.132  0.132  0.1326\n",
      " 0.1331 0.1335 0.1332 0.1334 0.1338]\n",
      "Wall time: 16min 55s\n"
     ]
    }
   ],
   "source": [
    "%%time\n",
    "# creating odd list of K for KNN\n",
    "myList = list(range(0,50))\n",
    "neighbors = list(filter(lambda x: x % 2 != 0, myList))\n",
    "\n",
    "# empty list that will hold cv scores\n",
    "cv_scores = []\n",
    "\n",
    "# perform 10-fold cross validation\n",
    "for k in neighbors:\n",
    "    knn = KNeighborsClassifier(n_neighbors=k,algorithm='brute')\n",
    "    scores = cross_val_score(knn, X_train, y_train, cv=10, scoring='accuracy')\n",
    "    cv_scores.append(scores.mean())\n",
    "\n",
    "# changing to misclassification error\n",
    "MSE = [1 - x for x in cv_scores]\n",
    "\n",
    "# determining best k\n",
    "optimal_k = neighbors[MSE.index(min(MSE))]\n",
    "print('\\nThe optimal number of neighbors is %d.' % optimal_k)\n",
    "\n",
    "# plot misclassification error vs k \n",
    "plt.plot(neighbors, MSE)\n",
    "\n",
    "for xy in zip(neighbors, np.round(MSE,3)):\n",
    "    plt.annotate('(%s, %s)' % xy, xy=xy, textcoords='data')\n",
    "\n",
    "plt.xlabel('Number of Neighbors K')\n",
    "plt.ylabel('Misclassification Error')\n",
    "plt.show()\n",
    "\n",
    "print(\"the misclassification error of train-dataset for each k value is : \", np.round(MSE,4))"
   ]
  },
  {
   "cell_type": "code",
   "execution_count": 18,
   "metadata": {},
   "outputs": [
    {
     "name": "stdout",
     "output_type": "stream",
     "text": [
      "\n",
      "The accuracy of the knn classifier for k = 13 is 86.708333%\n",
      "\n",
      "The misclassification error of test-dataset is [0.1329]\n"
     ]
    }
   ],
   "source": [
    "# ============================== KNN with k = optimal_k ===============================================\n",
    "# instantiate learning model k = optimal_k\n",
    "knn_optimal = KNeighborsClassifier(n_neighbors=optimal_k)\n",
    "\n",
    "# fitting the model\n",
    "knn_optimal.fit(X_train, y_train)\n",
    "\n",
    "# predict the response\n",
    "pred = knn_optimal.predict(X_test)\n",
    "\n",
    "# evaluate accuracy\n",
    "acc = accuracy_score(y_test, pred) * 100\n",
    "print('\\nThe accuracy of the knn classifier for k = %d is %f%%' % (optimal_k, acc))\n",
    "MSE = [1 - acc/100]\n",
    "print('\\nThe misclassification error of test-dataset is', np.round(MSE,4))\n"
   ]
  },
  {
   "cell_type": "code",
   "execution_count": 24,
   "metadata": {},
   "outputs": [
    {
     "name": "stdout",
     "output_type": "stream",
     "text": [
      "Accuracy on test set: 86.708%\n",
      "Precision on test set: 0.873\n",
      "Recall on test set: 0.988\n",
      "F1-Score on test set: 0.927\n",
      "Confusion Matrix of test set:\n",
      " [ [TN  FN]\n",
      " [FP TP] ]\n",
      "\n"
     ]
    },
    {
     "data": {
      "text/plain": [
       "<matplotlib.axes._subplots.AxesSubplot at 0x17a520b8>"
      ]
     },
     "execution_count": 24,
     "metadata": {},
     "output_type": "execute_result"
    },
    {
     "data": {
      "image/png": "[encoded data removed]",
      "text/plain": [
       "<Figure size 432x288 with 2 Axes>"
      ]
     },
     "metadata": {},
     "output_type": "display_data"
    }
   ],
   "source": [
    "#Testing Accuracy on Test data\n",
    "import seaborn as sns\n",
    "print(\"Accuracy on test set: %0.3f%%\"%(accuracy_score(y_test, pred)*100))\n",
    "print(\"Precision on test set: %0.3f\"%(precision_score(y_test, pred)))\n",
    "print(\"Recall on test set: %0.3f\"%(recall_score(y_test, pred)))\n",
    "print(\"F1-Score on test set: %0.3f\"%(f1_score(y_test, pred)))\n",
    "print(\"Confusion Matrix of test set:\\n [ [TN  FN]\\n [FP TP] ]\\n\")\n",
    "df_cm = pd.DataFrame(confusion_matrix(y_test, pred), range(2),range(2))\n",
    "#sns.set(font_scale=1.4)#for label size\n",
    "sns.heatmap(df_cm, annot=True,annot_kws={\"size\": 16}, fmt='g')"
   ]
  },
  {
   "cell_type": "markdown",
   "metadata": {},
   "source": [
    "# Using KDTree Alogorithm"
   ]
  },
  {
   "cell_type": "code",
   "execution_count": 23,
   "metadata": {},
   "outputs": [
    {
     "name": "stdout",
     "output_type": "stream",
     "text": [
      "\n",
      "The optimal number of neighbors is 13.\n"
     ]
    },
    {
     "data": {
      "image/png": "[encoded data removed]",
      "text/plain": [
       "<Figure size 432x288 with 1 Axes>"
      ]
     },
     "metadata": {},
     "output_type": "display_data"
    },
    {
     "name": "stdout",
     "output_type": "stream",
     "text": [
      "the misclassification error of train-dataset for each k value is :  [0.1837 0.1492 0.1376 0.1345 0.1319 0.1309 0.1298 0.1305 0.1304 0.1302\n",
      " 0.1305 0.1301 0.1308 0.1313 0.1314 0.1312 0.1313 0.132  0.132  0.1326\n",
      " 0.1331 0.1335 0.1332 0.1334 0.1338]\n",
      "Wall time: 16min 54s\n"
     ]
    }
   ],
   "source": [
    "%%time\n",
    "# creating odd list of K for KNN\n",
    "myList = list(range(0,50))\n",
    "neighbors = list(filter(lambda x: x % 2 != 0, myList))\n",
    "\n",
    "# empty list that will hold cv scores\n",
    "cv_scores = []\n",
    "\n",
    "# perform 10-fold cross validation\n",
    "for k in neighbors:\n",
    "    knn = KNeighborsClassifier(n_neighbors=k,algorithm='kd_tree')\n",
    "    scores = cross_val_score(knn, X_train, y_train, cv=10, scoring='accuracy')\n",
    "    cv_scores.append(scores.mean())\n",
    "\n",
    "# changing to misclassification error\n",
    "MSE = [1 - x for x in cv_scores]\n",
    "\n",
    "# determining best k\n",
    "optimal_k = neighbors[MSE.index(min(MSE))]\n",
    "print('\\nThe optimal number of neighbors is %d.' % optimal_k)\n",
    "\n",
    "# plot misclassification error vs k \n",
    "plt.plot(neighbors, MSE)\n",
    "\n",
    "for xy in zip(neighbors, np.round(MSE,3)):\n",
    "    plt.annotate('(%s, %s)' % xy, xy=xy, textcoords='data')\n",
    "\n",
    "plt.xlabel('Number of Neighbors K')\n",
    "plt.ylabel('Misclassification Error')\n",
    "plt.show()\n",
    "\n",
    "print(\"the misclassification error of train-dataset for each k value is : \", np.round(MSE,4))"
   ]
  },
  {
   "cell_type": "code",
   "execution_count": 25,
   "metadata": {},
   "outputs": [
    {
     "name": "stdout",
     "output_type": "stream",
     "text": [
      "\n",
      "The accuracy of the knn classifier for k = 13 is 86.708333%\n",
      "\n",
      "The misclassification error of test-dataset is 0.1329\n"
     ]
    }
   ],
   "source": [
    "# ============================== KNN with k = optimal_k ===============================================\n",
    "# instantiate learning model k = optimal_k\n",
    "knn_optimal = KNeighborsClassifier(n_neighbors=optimal_k)\n",
    "\n",
    "# fitting the model\n",
    "knn_optimal.fit(X_train, y_train)\n",
    "\n",
    "# predict the response\n",
    "pred = knn_optimal.predict(X_test)\n",
    "\n",
    "# evaluate accuracy\n",
    "acc = accuracy_score(y_test, pred) * 100\n",
    "print('\\nThe accuracy of the knn classifier for k = %d is %f%%' % (optimal_k, acc))\n",
    "MSE = 1 - acc/100\n",
    "print('\\nThe misclassification error of test-dataset is', np.round(MSE,4))"
   ]
  },
  {
   "cell_type": "code",
   "execution_count": 26,
   "metadata": {},
   "outputs": [
    {
     "name": "stdout",
     "output_type": "stream",
     "text": [
      "Accuracy on test set: 86.708%\n",
      "Precision on test set: 0.873\n",
      "Recall on test set: 0.988\n",
      "F1-Score on test set: 0.927\n",
      "Confusion Matrix of test set:\n",
      " [ [TN  FN]\n",
      " [FP TP] ]\n",
      "\n"
     ]
    },
    {
     "data": {
      "text/plain": [
       "<matplotlib.axes._subplots.AxesSubplot at 0x1ffcf080>"
      ]
     },
     "execution_count": 26,
     "metadata": {},
     "output_type": "execute_result"
    },
    {
     "data": {
      "image/png": "[encoded data removed]",
      "text/plain": [
       "<Figure size 432x288 with 2 Axes>"
      ]
     },
     "metadata": {},
     "output_type": "display_data"
    }
   ],
   "source": [
    "#Testing Accuracy on Test data\n",
    "import seaborn as sns\n",
    "print(\"Accuracy on test set: %0.3f%%\"%(accuracy_score(y_test, pred)*100))\n",
    "print(\"Precision on test set: %0.3f\"%(precision_score(y_test, pred)))\n",
    "print(\"Recall on test set: %0.3f\"%(recall_score(y_test, pred)))\n",
    "print(\"F1-Score on test set: %0.3f\"%(f1_score(y_test, pred)))\n",
    "print(\"Confusion Matrix of test set:\\n [ [TN  FN]\\n [FP TP] ]\\n\")\n",
    "df_cm = pd.DataFrame(confusion_matrix(y_test, pred), range(2),range(2))\n",
    "#sns.set(font_scale=1.4)#for label size\n",
    "sns.heatmap(df_cm, annot=True,annot_kws={\"size\": 16}, fmt='g')"
   ]
  },
  {
   "cell_type": "markdown",
   "metadata": {},
   "source": [
    "# TF-IDF :-"
   ]
  },
  {
   "cell_type": "markdown",
   "metadata": {},
   "source": [
    "1. In information retrieval, tf–idf or TFIDF, short for term frequency–inverse document frequency, is a numerical statistic that is intended to reflect how important a word is to a document in a collection or corpus.[1] It is often used as a weighting factor in searches of information retrieval, text mining, and user modeling. The tf–idf value increases proportionally to the number of times a word appears in the document and is offset by the number of documents in the corpus that contain the word, which helps to adjust for the fact that some words appear more frequently in general. Tf–idf is one of the most popular term-weighting schemes today; 83% of text-based recommender systems in digital libraries use tf–idf.[2]\n",
    "\n",
    "2. Variations of the tf–idf weighting scheme are often used by search engines as a central tool in scoring and ranking a document's relevance given a user query. tf–idf can be successfully used for stop-words filtering in various subject fields, including text summarization and classification.\n",
    "\n",
    "3. One of the simplest ranking functions is computed by summing the tf–idf for each query term; many more sophisticated ranking functions are variants of this simple model."
   ]
  },
  {
   "cell_type": "markdown",
   "metadata": {},
   "source": [
    "# Term frequency"
   ]
  },
  {
   "cell_type": "markdown",
   "metadata": {},
   "source": [
    "Suppose we have a set of English text documents and wish to rank which document is most relevant to the query, \"the brown cow\". A simple way to start out is by eliminating documents that do not contain all three words \"the\", \"brown\", and \"cow\", but this still leaves many documents. To further distinguish them, we might count the number of times each term occurs in each document; the number of times a term occurs in a document is called its term frequency. However, in the case where the length of documents varies greatly, adjustments are often made (see definition below). The first form of term weighting is due to Hans Peter Luhn (1957) which may be summarized as:\n",
    "\n",
    "The weight of a term that occurs in a document is simply proportional to the term frequency.[3]"
   ]
  },
  {
   "cell_type": "markdown",
   "metadata": {},
   "source": [
    "# Inverse document frequency"
   ]
  },
  {
   "cell_type": "markdown",
   "metadata": {},
   "source": [
    "Because the term \"the\" is so common, term frequency will tend to incorrectly emphasize documents which happen to use the word \"the\" more frequently, without giving enough weight to the more meaningful terms \"brown\" and \"cow\". The term \"the\" is not a good keyword to distinguish relevant and non-relevant documents and terms, unlike the less-common words \"brown\" and \"cow\". Hence an inverse document frequency factor is incorporated which diminishes the weight of terms that occur very frequently in the document set and increases the weight of terms that occur rarely.\n",
    "\n",
    "Karen Spärck Jones (1972) conceived a statistical interpretation of term specificity called Inverse Document Frequency (idf), which became a cornerstone of term weighting:\n",
    "\n",
    "The specificity of a term can be quantified as an inverse function of the number of documents in which it occurs.[4]"
   ]
  },
  {
   "cell_type": "code",
   "execution_count": 27,
   "metadata": {},
   "outputs": [
    {
     "name": "stdout",
     "output_type": "stream",
     "text": [
      " TF-IDF Train Data Size:  (28000, 514058)\n",
      "TF-IDF Test Data Size:  (12000, 514058)\n",
      "Wall time: 7.25 s\n"
     ]
    }
   ],
   "source": [
    "%%time\n",
    "from sklearn.feature_extraction.text import TfidfVectorizer\n",
    "from sklearn import preprocessing\n",
    "#Breaking into Train and test\n",
    "X_train, X_test, y_train, y_test = train_test_split(food1_sample['CleanedText'].values,food1_sample['Score'].values,test_size=0.3,random_state=30)\n",
    "\n",
    "tfidf = TfidfVectorizer(ngram_range=(1,2)) #Using bi-grams\n",
    "X_train = tfidf.fit_transform(X_train)\n",
    "#Normalizing tfidf train Data\n",
    "X_train = preprocessing.normalize(X_train)\n",
    "print(\" TF-IDF Train Data Size: \",X_train.shape)\n",
    "X_test = tfidf.transform(X_test)\n",
    "#Normalize tfidf train Data\n",
    "X_test = preprocessing.normalize(X_test)\n",
    "print(\"TF-IDF Test Data Size: \",X_test.shape)"
   ]
  },
  {
   "cell_type": "markdown",
   "metadata": {},
   "source": [
    "# 10 fold cross validation On TF-IDF:-"
   ]
  },
  {
   "cell_type": "markdown",
   "metadata": {},
   "source": [
    "# Using brute-force Alogorithm :-"
   ]
  },
  {
   "cell_type": "code",
   "execution_count": 28,
   "metadata": {},
   "outputs": [
    {
     "name": "stdout",
     "output_type": "stream",
     "text": [
      "\n",
      "The optimal number of neighbors is 11.\n"
     ]
    },
    {
     "data": {
      "image/png": "[encoded data removed]",
      "text/plain": [
       "<Figure size 432x288 with 1 Axes>"
      ]
     },
     "metadata": {},
     "output_type": "display_data"
    },
    {
     "name": "stdout",
     "output_type": "stream",
     "text": [
      "the misclassification error of train-dataset for each k value is :  [0.1845 0.1475 0.1373 0.1345 0.133  0.1329 0.1336 0.1337 0.1349 0.135\n",
      " 0.1349 0.135  0.1355 0.1358 0.136  0.1362 0.1366 0.1365 0.137  0.1371\n",
      " 0.1372 0.1373 0.1377 0.1379 0.1381]\n",
      "Wall time: 17min 13s\n"
     ]
    }
   ],
   "source": [
    "%%time\n",
    "# creating odd list of K for KNN\n",
    "myList = list(range(0,50))\n",
    "neighbors = list(filter(lambda x: x % 2 != 0, myList))\n",
    "\n",
    "# empty list that will hold cv scores\n",
    "cv_scores = []\n",
    "\n",
    "# perform 10-fold cross validation\n",
    "for k in neighbors:\n",
    "    knn = KNeighborsClassifier(n_neighbors=k,algorithm='brute')\n",
    "    scores = cross_val_score(knn, X_train, y_train, cv=10, scoring='accuracy')\n",
    "    cv_scores.append(scores.mean())\n",
    "\n",
    "# changing to misclassification error\n",
    "MSE = [1 - x for x in cv_scores]\n",
    "\n",
    "# determining best k\n",
    "optimal_k = neighbors[MSE.index(min(MSE))]\n",
    "print('\\nThe optimal number of neighbors is %d.' % optimal_k)\n",
    "\n",
    "# plot misclassification error vs k \n",
    "plt.plot(neighbors, MSE)\n",
    "\n",
    "for xy in zip(neighbors, np.round(MSE,3)):\n",
    "    plt.annotate('(%s, %s)' % xy, xy=xy, textcoords='data')\n",
    "\n",
    "plt.xlabel('Number of Neighbors K')\n",
    "plt.ylabel('Misclassification Error')\n",
    "plt.show()\n",
    "\n",
    "print(\"the misclassification error of train-dataset for each k value is : \", np.round(MSE,4))"
   ]
  },
  {
   "cell_type": "code",
   "execution_count": 29,
   "metadata": {},
   "outputs": [
    {
     "name": "stdout",
     "output_type": "stream",
     "text": [
      "\n",
      "The accuracy of the knn classifier for k = 11 is 86.975000%\n",
      "\n",
      "The misclassification error of test-dataset is 0.1302\n"
     ]
    }
   ],
   "source": [
    "# ============================== KNN with k = optimal_k ===============================================\n",
    "# instantiate learning model k = optimal_k\n",
    "knn_optimal = KNeighborsClassifier(n_neighbors=optimal_k)\n",
    "\n",
    "# fitting the model\n",
    "knn_optimal.fit(X_train, y_train)\n",
    "\n",
    "# predict the response\n",
    "pred = knn_optimal.predict(X_test)\n",
    "\n",
    "# evaluate accuracy\n",
    "acc = accuracy_score(y_test, pred) * 100\n",
    "print('\\nThe accuracy of the knn classifier for k = %d is %f%%' % (optimal_k, acc))\n",
    "MSE = 1 - acc/100\n",
    "print('\\nThe misclassification error of test-dataset is', np.round(MSE,4))"
   ]
  },
  {
   "cell_type": "code",
   "execution_count": 30,
   "metadata": {},
   "outputs": [
    {
     "name": "stdout",
     "output_type": "stream",
     "text": [
      "Accuracy on test set: 86.975%\n",
      "Precision on test set: 0.873\n",
      "Recall on test set: 0.992\n",
      "F1-Score on test set: 0.929\n",
      "Confusion Matrix of test set:\n",
      " [ [TN  FN]\n",
      " [FP TP] ]\n",
      "\n"
     ]
    },
    {
     "data": {
      "text/plain": [
       "<matplotlib.axes._subplots.AxesSubplot at 0x19dd6d68>"
      ]
     },
     "execution_count": 30,
     "metadata": {},
     "output_type": "execute_result"
    },
    {
     "data": {
      "image/png": "[encoded data removed]",
      "text/plain": [
       "<Figure size 432x288 with 2 Axes>"
      ]
     },
     "metadata": {},
     "output_type": "display_data"
    }
   ],
   "source": [
    "#Testing Accuracy on Test data\n",
    "import seaborn as sns\n",
    "print(\"Accuracy on test set: %0.3f%%\"%(accuracy_score(y_test, pred)*100))\n",
    "print(\"Precision on test set: %0.3f\"%(precision_score(y_test, pred)))\n",
    "print(\"Recall on test set: %0.3f\"%(recall_score(y_test, pred)))\n",
    "print(\"F1-Score on test set: %0.3f\"%(f1_score(y_test, pred)))\n",
    "print(\"Confusion Matrix of test set:\\n [ [TN  FN]\\n [FP TP] ]\\n\")\n",
    "df_cm = pd.DataFrame(confusion_matrix(y_test, pred), range(2),range(2))\n",
    "#sns.set(font_scale=1.4)#for label size\n",
    "sns.heatmap(df_cm, annot=True,annot_kws={\"size\": 16}, fmt='g')"
   ]
  },
  {
   "cell_type": "markdown",
   "metadata": {},
   "source": [
    "# Using KDTree Alogorithm :-"
   ]
  },
  {
   "cell_type": "code",
   "execution_count": 31,
   "metadata": {},
   "outputs": [
    {
     "name": "stdout",
     "output_type": "stream",
     "text": [
      "\n",
      "The optimal number of neighbors is 11.\n"
     ]
    },
    {
     "data": {
      "image/png": "[encoded data removed]",
      "text/plain": [
       "<Figure size 432x288 with 1 Axes>"
      ]
     },
     "metadata": {},
     "output_type": "display_data"
    },
    {
     "name": "stdout",
     "output_type": "stream",
     "text": [
      "the misclassification error of train-dataset for each k value is :  [0.1845 0.1475 0.1373 0.1345 0.133  0.1329 0.1336 0.1337 0.1349 0.135\n",
      " 0.1349 0.135  0.1355 0.1358 0.136  0.1362 0.1366 0.1365 0.137  0.1371\n",
      " 0.1372 0.1373 0.1377 0.1379 0.1381]\n",
      "Wall time: 17min 6s\n"
     ]
    }
   ],
   "source": [
    "%%time\n",
    "# creating odd list of K for KNN\n",
    "myList = list(range(0,50))\n",
    "neighbors = list(filter(lambda x: x % 2 != 0, myList))\n",
    "\n",
    "# empty list that will hold cv scores\n",
    "cv_scores = []\n",
    "\n",
    "# perform 10-fold cross validation\n",
    "for k in neighbors:\n",
    "    knn = KNeighborsClassifier(n_neighbors=k,algorithm='kd_tree')\n",
    "    scores = cross_val_score(knn, X_train, y_train, cv=10, scoring='accuracy')\n",
    "    cv_scores.append(scores.mean())\n",
    "\n",
    "# changing to misclassification error\n",
    "MSE = [1 - x for x in cv_scores]\n",
    "\n",
    "# determining best k\n",
    "optimal_k = neighbors[MSE.index(min(MSE))]\n",
    "print('\\nThe optimal number of neighbors is %d.' % optimal_k)\n",
    "\n",
    "# plot misclassification error vs k \n",
    "plt.plot(neighbors, MSE)\n",
    "\n",
    "for xy in zip(neighbors, np.round(MSE,3)):\n",
    "    plt.annotate('(%s, %s)' % xy, xy=xy, textcoords='data')\n",
    "\n",
    "plt.xlabel('Number of Neighbors K')\n",
    "plt.ylabel('Misclassification Error')\n",
    "plt.show()\n",
    "\n",
    "print(\"the misclassification error of train-dataset for each k value is : \", np.round(MSE,4))"
   ]
  },
  {
   "cell_type": "code",
   "execution_count": 32,
   "metadata": {},
   "outputs": [
    {
     "name": "stdout",
     "output_type": "stream",
     "text": [
      "\n",
      "The accuracy of the knn classifier for k = 11 is 86.975000%\n",
      "\n",
      "The misclassification error of test-dataset is 0.1302\n"
     ]
    }
   ],
   "source": [
    "# ============================== KNN with k = optimal_k ===============================================\n",
    "# instantiate learning model k = optimal_k\n",
    "knn_optimal = KNeighborsClassifier(n_neighbors=optimal_k)\n",
    "\n",
    "# fitting the model\n",
    "knn_optimal.fit(X_train, y_train)\n",
    "\n",
    "# predict the response\n",
    "pred = knn_optimal.predict(X_test)\n",
    "\n",
    "# evaluate accuracy\n",
    "acc = accuracy_score(y_test, pred) * 100\n",
    "print('\\nThe accuracy of the knn classifier for k = %d is %f%%' % (optimal_k, acc))\n",
    "MSE = 1 - acc/100\n",
    "print('\\nThe misclassification error of test-dataset is', np.round(MSE,4))"
   ]
  },
  {
   "cell_type": "code",
   "execution_count": 33,
   "metadata": {},
   "outputs": [
    {
     "name": "stdout",
     "output_type": "stream",
     "text": [
      "Accuracy on test set: 86.975%\n",
      "Precision on test set: 0.873\n",
      "Recall on test set: 0.992\n",
      "F1-Score on test set: 0.929\n",
      "Confusion Matrix of test set:\n",
      " [ [TN  FN]\n",
      " [FP TP] ]\n",
      "\n"
     ]
    },
    {
     "data": {
      "text/plain": [
       "<matplotlib.axes._subplots.AxesSubplot at 0x2c27c208>"
      ]
     },
     "execution_count": 33,
     "metadata": {},
     "output_type": "execute_result"
    },
    {
     "data": {
      "image/png": "[encoded data removed]",
      "text/plain": [
       "<Figure size 432x288 with 2 Axes>"
      ]
     },
     "metadata": {},
     "output_type": "display_data"
    }
   ],
   "source": [
    "#Testing Accuracy on Test data\n",
    "import seaborn as sns\n",
    "print(\"Accuracy on test set: %0.3f%%\"%(accuracy_score(y_test, pred)*100))\n",
    "print(\"Precision on test set: %0.3f\"%(precision_score(y_test, pred)))\n",
    "print(\"Recall on test set: %0.3f\"%(recall_score(y_test, pred)))\n",
    "print(\"F1-Score on test set: %0.3f\"%(f1_score(y_test, pred)))\n",
    "print(\"Confusion Matrix of test set:\\n [ [TN  FN]\\n [FP TP] ]\\n\")\n",
    "df_cm = pd.DataFrame(confusion_matrix(y_test, pred), range(2),range(2))\n",
    "#sns.set(font_scale=1.4)#for label size\n",
    "sns.heatmap(df_cm, annot=True,annot_kws={\"size\": 16}, fmt='g')"
   ]
  },
  {
   "cell_type": "markdown",
   "metadata": {},
   "source": [
    "# Clean the text with no stem for avgw2v and tfidf-w2v model"
   ]
  },
  {
   "cell_type": "code",
   "execution_count": 7,
   "metadata": {},
   "outputs": [
    {
     "name": "stdout",
     "output_type": "stream",
     "text": [
      "{'into', 'll', 'any', 'through', 'itself', \"won't\", 'up', 'themselves', 'am', \"should've\", 'has', 'few', 've', 'all', 'out', 'there', \"don't\", \"shouldn't\", 'mustn', 'being', \"you've\", 'over', 'under', \"hasn't\", 'ain', 're', 'had', 'that', 'should', 's', 'during', 'why', \"she's\", 'from', 'o', 'hadn', 'is', \"wasn't\", 'most', \"aren't\", 'once', 'here', 'between', 'we', 'hers', 'whom', \"couldn't\", 'mightn', 'other', 'off', 'do', \"needn't\", 'because', 'i', 'more', 'my', 'if', 'with', \"mustn't\", 'after', 'were', 'those', 'needn', 'such', 'him', 'a', 'each', 'so', 'only', 'how', 'don', 'to', 'are', \"hadn't\", 'when', 'aren', 'down', \"haven't\", 'the', 'until', 'below', 'does', 'than', 'again', 'this', 'wasn', 'against', 'who', 'ma', 'd', \"that'll\", 'weren', 'haven', 'her', 'she', 'by', 'doesn', 'yours', 'did', \"isn't\", 'then', 'but', 'very', 'didn', 'own', \"you're\", 'some', 'while', 'y', 'couldn', 'about', \"wouldn't\", 'their', 'same', 'himself', 'was', 'nor', 'isn', \"you'd\", 'won', 'shouldn', 'these', \"mightn't\", 'above', 'you', 'myself', 'further', 'be', 'now', 'on', 'an', \"shan't\", 'as', 'herself', 'ourselves', \"it's\", 'having', 'before', \"you'll\", 'yourself', 'it', 'where', 'he', 'no', 'have', 'will', 'what', 'both', \"didn't\", 'your', 'can', 'which', 'hasn', 'shan', 'at', 'in', 'they', 'for', 'our', \"doesn't\", 'or', 't', 'been', 'his', 'its', 'of', 'wouldn', 'them', 'yourselves', 'theirs', 'doing', 'me', 'just', 'm', 'too', 'ours', 'and', \"weren't\"}\n",
      "************************************\n",
      "tasti\n"
     ]
    }
   ],
   "source": [
    "import re\n",
    "# Tutorial about Python regular expressions: https://pymotw.com/2/re/\n",
    "import nltk\n",
    "import string\n",
    "from nltk.corpus import stopwords\n",
    "from nltk.stem import PorterStemmer\n",
    "from nltk.stem.wordnet import WordNetLemmatizer\n",
    "\n",
    "stop = set(stopwords.words('english')) #set of stopwords\n",
    "stop.remove('not')\n",
    "sno = nltk.stem.SnowballStemmer('english') #initialising the snowball stemmer\n",
    "\n",
    "def cleanhtml(sentence): #function to clean the word of any html-tags\n",
    "    cleanr = re.compile('<.*?>')\n",
    "    cleantext = re.sub(cleanr, ' ', sentence)\n",
    "    return cleantext\n",
    "def cleanpunc(sentence): #function to clean the word of any punctuation or special characters\n",
    "    cleaned = re.sub(r'[?|!|\\'|\"|#]',r'',sentence)\n",
    "    cleaned = re.sub(r'[.|,|)|(|\\|/]',r' ',cleaned)\n",
    "    return  cleaned\n",
    "print(stop)\n",
    "print('************************************')\n",
    "print(sno.stem('tasty'))"
   ]
  },
  {
   "cell_type": "markdown",
   "metadata": {},
   "source": [
    "# Spliting the train and test data before running any model "
   ]
  },
  {
   "cell_type": "code",
   "execution_count": 46,
   "metadata": {},
   "outputs": [],
   "source": [
    "#for testing propose\n",
    "#food1_sample=food1_sample.sample(n=5000)"
   ]
  },
  {
   "cell_type": "code",
   "execution_count": 8,
   "metadata": {},
   "outputs": [],
   "source": [
    "X_train, X_test, y_train, y_test = train_test_split(food1_sample['Text'],food1_sample['Score'],test_size=0.3,random_state=0)"
   ]
  },
  {
   "cell_type": "code",
   "execution_count": 9,
   "metadata": {},
   "outputs": [
    {
     "data": {
      "text/plain": [
       "158951    These onions are nice, large and crispy - howe...\n",
       "Name: Text, dtype: object"
      ]
     },
     "execution_count": 9,
     "metadata": {},
     "output_type": "execute_result"
    }
   ],
   "source": [
    "X_train.head(1)"
   ]
  },
  {
   "cell_type": "code",
   "execution_count": 10,
   "metadata": {},
   "outputs": [],
   "source": [
    "i=0\n",
    "train_list_of_sent=[]\n",
    "for sent in X_train:\n",
    "    filtered_sentence=[]\n",
    "    sent=cleanhtml(sent)\n",
    "    for w in sent.split():\n",
    "        for cleaned_words in cleanpunc(w).split():\n",
    "            if(cleaned_words.isalpha()):    \n",
    "                filtered_sentence.append(cleaned_words.lower())\n",
    "            else:\n",
    "                continue \n",
    "    train_list_of_sent.append(filtered_sentence)"
   ]
  },
  {
   "cell_type": "code",
   "execution_count": 11,
   "metadata": {},
   "outputs": [
    {
     "name": "stdout",
     "output_type": "stream",
     "text": [
      "28000\n"
     ]
    }
   ],
   "source": [
    "print(len(train_list_of_sent))"
   ]
  },
  {
   "cell_type": "code",
   "execution_count": 12,
   "metadata": {},
   "outputs": [],
   "source": [
    "i=0\n",
    "Test_list_of_sent=[]\n",
    "for sent in X_test:\n",
    "    filtered_sentence=[]\n",
    "    sent=cleanhtml(sent)\n",
    "    for w in sent.split():\n",
    "        for cleaned_words in cleanpunc(w).split():\n",
    "            if(cleaned_words.isalpha()):    \n",
    "                filtered_sentence.append(cleaned_words.lower())\n",
    "            else:\n",
    "                continue \n",
    "    Test_list_of_sent.append(filtered_sentence)"
   ]
  },
  {
   "cell_type": "code",
   "execution_count": 13,
   "metadata": {},
   "outputs": [
    {
     "name": "stdout",
     "output_type": "stream",
     "text": [
      "12000\n"
     ]
    }
   ],
   "source": [
    "print(len(Test_list_of_sent))"
   ]
  },
  {
   "cell_type": "markdown",
   "metadata": {},
   "source": [
    "# w2v model"
   ]
  },
  {
   "cell_type": "markdown",
   "metadata": {},
   "source": [
    "Here we are using the google trained w2v model.\n",
    "1. for using the w2v model , minimum 16 GB RAM required . so please carefull about it "
   ]
  },
  {
   "cell_type": "code",
   "execution_count": 14,
   "metadata": {},
   "outputs": [],
   "source": [
    "from gensim.models import Word2Vec\n",
    "from gensim.models import KeyedVectors\n",
    "model = KeyedVectors.load_word2vec_format('GoogleNews-vectors-negative300.bin', binary=True)"
   ]
  },
  {
   "cell_type": "code",
   "execution_count": 15,
   "metadata": {},
   "outputs": [
    {
     "data": {
      "text/plain": [
       "0.76640123"
      ]
     },
     "execution_count": 15,
     "metadata": {},
     "output_type": "execute_result"
    }
   ],
   "source": [
    "model.wv.similarity('woman', 'man')"
   ]
  },
  {
   "cell_type": "code",
   "execution_count": 16,
   "metadata": {},
   "outputs": [
    {
     "data": {
      "text/plain": [
       "[('man', 0.7664012312889099),\n",
       " ('girl', 0.7494641542434692),\n",
       " ('teenage_girl', 0.7336831092834473),\n",
       " ('teenager', 0.631708562374115),\n",
       " ('lady', 0.628878653049469),\n",
       " ('teenaged_girl', 0.6141784191131592),\n",
       " ('mother', 0.607630729675293),\n",
       " ('policewoman', 0.6069462299346924),\n",
       " ('boy', 0.5975908041000366),\n",
       " ('Woman', 0.5770981311798096)]"
      ]
     },
     "execution_count": 16,
     "metadata": {},
     "output_type": "execute_result"
    }
   ],
   "source": [
    "model.wv.most_similar('woman')"
   ]
  },
  {
   "cell_type": "markdown",
   "metadata": {},
   "source": [
    "# Avg w2v model"
   ]
  },
  {
   "cell_type": "markdown",
   "metadata": {},
   "source": [
    "Convert all the words to vectors and then just take the avg of the vectors the resulting vector represent the sentence"
   ]
  },
  {
   "cell_type": "code",
   "execution_count": 44,
   "metadata": {},
   "outputs": [
    {
     "name": "stdout",
     "output_type": "stream",
     "text": [
      "28000\n",
      "300\n",
      "Wall time: 23.1 s\n"
     ]
    }
   ],
   "source": [
    "%%time\n",
    "#np.seterr(divide='ignore', invalid='ignore')\n",
    "# average Word2Vec\n",
    "# compute average word2vec for each review.\n",
    "train_sent_vectors = []; # the avg-w2v for each sentence/review is stored in this list\n",
    "for sent in train_list_of_sent: # for each review/sentence\n",
    "    sent_vec = np.zeros(300) # as word vectors are of zero length\n",
    "    cnt_words =0; # num of words with a valid vector in the sentence/review\n",
    "    for word in sent: # for each word in a review/sentence\n",
    "        try:\n",
    "            vec = model.wv[word]\n",
    "            sent_vec += vec\n",
    "            cnt_words += 1\n",
    "        except:\n",
    "            pass\n",
    "    sent_vec /= cnt_words\n",
    "    train_sent_vectors.append(sent_vec)\n",
    "print(len(train_sent_vectors))\n",
    "print(len(train_sent_vectors[0]))"
   ]
  },
  {
   "cell_type": "code",
   "execution_count": 45,
   "metadata": {},
   "outputs": [],
   "source": [
    "train_sent_vectors = np.array(train_sent_vectors)"
   ]
  },
  {
   "cell_type": "code",
   "execution_count": 46,
   "metadata": {},
   "outputs": [
    {
     "data": {
      "text/plain": [
       "False"
      ]
     },
     "execution_count": 46,
     "metadata": {},
     "output_type": "execute_result"
    }
   ],
   "source": [
    "np.isnan(train_sent_vectors).any()"
   ]
  },
  {
   "cell_type": "code",
   "execution_count": 47,
   "metadata": {},
   "outputs": [
    {
     "name": "stdout",
     "output_type": "stream",
     "text": [
      "12000\n",
      "300\n",
      "Wall time: 9.97 s\n"
     ]
    }
   ],
   "source": [
    "%%time\n",
    "#np.seterr(divide='ignore', invalid='ignore')\n",
    "# average Word2Vec\n",
    "# compute average word2vec for each review.\n",
    "Test_sent_vectors = []; # the avg-w2v for each sentence/review is stored in this list\n",
    "for sent in Test_list_of_sent: # for each review/sentence\n",
    "    sent_vec = np.zeros(300) # as word vectors are of zero length\n",
    "    cnt_words =0; # num of words with a valid vector in the sentence/review\n",
    "    for word in sent: # for each word in a review/sentence\n",
    "        try:\n",
    "            vec = model.wv[word]\n",
    "            sent_vec += vec\n",
    "            cnt_words += 1\n",
    "        except:\n",
    "            pass\n",
    "    sent_vec /= cnt_words\n",
    "    Test_sent_vectors.append(sent_vec)\n",
    "print(len(Test_sent_vectors))\n",
    "print(len(Test_sent_vectors[0]))"
   ]
  },
  {
   "cell_type": "code",
   "execution_count": 48,
   "metadata": {},
   "outputs": [],
   "source": [
    "Test_sent_vectors = np.array(Test_sent_vectors)"
   ]
  },
  {
   "cell_type": "code",
   "execution_count": 49,
   "metadata": {},
   "outputs": [
    {
     "data": {
      "text/plain": [
       "False"
      ]
     },
     "execution_count": 49,
     "metadata": {},
     "output_type": "execute_result"
    }
   ],
   "source": [
    "np.isnan(Test_sent_vectors).any()"
   ]
  },
  {
   "cell_type": "markdown",
   "metadata": {},
   "source": [
    "# 10 fold cross validation On Avg W2V:-"
   ]
  },
  {
   "cell_type": "markdown",
   "metadata": {},
   "source": [
    "# Using brute-force Alogorithm :-"
   ]
  },
  {
   "cell_type": "code",
   "execution_count": 50,
   "metadata": {},
   "outputs": [
    {
     "name": "stdout",
     "output_type": "stream",
     "text": [
      "\n",
      "The optimal number of neighbors is 9.\n"
     ]
    },
    {
     "data": {
      "image/png": "[encoded data removed]",
      "text/plain": [
       "<Figure size 432x288 with 1 Axes>"
      ]
     },
     "metadata": {},
     "output_type": "display_data"
    },
    {
     "name": "stdout",
     "output_type": "stream",
     "text": [
      "the misclassification error for each k value is :  [0.1818 0.1458 0.1386 0.137  0.1366 0.1367 0.137  0.1376 0.1377 0.1381\n",
      " 0.1383 0.1384 0.1385 0.1389 0.1393 0.1393 0.1397 0.1399 0.14   0.1401\n",
      " 0.14   0.1403 0.1405 0.1407 0.1408]\n",
      "Wall time: 13min 22s\n"
     ]
    }
   ],
   "source": [
    "%%time\n",
    "# creating odd list of K for KNN\n",
    "myList = list(range(0,50))\n",
    "neighbors = list(filter(lambda x: x % 2 != 0, myList))\n",
    "\n",
    "# empty list that will hold cv scores\n",
    "cv_scores = []\n",
    "\n",
    "# perform 10-fold cross validation\n",
    "for k in neighbors:\n",
    "    knn = KNeighborsClassifier(n_neighbors=k,algorithm='brute')\n",
    "    scores = cross_val_score(knn, train_sent_vectors, y_train, cv=10, scoring='accuracy')\n",
    "    cv_scores.append(scores.mean())\n",
    "\n",
    "# changing to misclassification error\n",
    "MSE = [1 - x for x in cv_scores]\n",
    "\n",
    "# determining best k\n",
    "optimal_k = neighbors[MSE.index(min(MSE))]\n",
    "print('\\nThe optimal number of neighbors is %d.' % optimal_k)\n",
    "\n",
    "# plot misclassification error vs k \n",
    "plt.plot(neighbors, MSE)\n",
    "\n",
    "for xy in zip(neighbors, np.round(MSE,3)):\n",
    "    plt.annotate('(%s, %s)' % xy, xy=xy, textcoords='data')\n",
    "\n",
    "plt.xlabel('Number of Neighbors K')\n",
    "plt.ylabel('Misclassification Error')\n",
    "plt.show()\n",
    "\n",
    "print(\"the misclassification error for each k value is : \", np.round(MSE,4))"
   ]
  },
  {
   "cell_type": "code",
   "execution_count": 51,
   "metadata": {},
   "outputs": [
    {
     "name": "stdout",
     "output_type": "stream",
     "text": [
      "\n",
      "The accuracy of the knn classifier for k = 9 is 86.083333%\n",
      "\n",
      "The misclassification error of test-dataset is 0.1392\n"
     ]
    }
   ],
   "source": [
    "# ============================== KNN with k = optimal_k ===============================================\n",
    "# instantiate learning model k = optimal_k\n",
    "knn_optimal = KNeighborsClassifier(n_neighbors=optimal_k)\n",
    "\n",
    "# fitting the model\n",
    "knn_optimal.fit(train_sent_vectors, y_train)\n",
    "\n",
    "# predict the response\n",
    "pred = knn_optimal.predict(Test_sent_vectors)\n",
    "\n",
    "# evaluate accuracy\n",
    "acc = accuracy_score(y_test, pred) * 100\n",
    "print('\\nThe accuracy of the knn classifier for k = %d is %f%%' % (optimal_k, acc))\n",
    "MSE = 1 - acc/100\n",
    "print('\\nThe misclassification error of test-dataset is', np.round(MSE,4))"
   ]
  },
  {
   "cell_type": "code",
   "execution_count": 52,
   "metadata": {},
   "outputs": [
    {
     "name": "stdout",
     "output_type": "stream",
     "text": [
      "Accuracy on test set: 86.083%\n",
      "Precision on test set: 0.865\n",
      "Recall on test set: 0.992\n",
      "F1-Score on test set: 0.924\n",
      "Confusion Matrix of test set:\n",
      " [ [TN  FN]\n",
      " [FP TP] ]\n",
      "\n"
     ]
    },
    {
     "data": {
      "text/plain": [
       "<matplotlib.axes._subplots.AxesSubplot at 0x6c03df28>"
      ]
     },
     "execution_count": 52,
     "metadata": {},
     "output_type": "execute_result"
    },
    {
     "data": {
      "image/png": "[encoded data removed]",
      "text/plain": [
       "<Figure size 432x288 with 2 Axes>"
      ]
     },
     "metadata": {},
     "output_type": "display_data"
    }
   ],
   "source": [
    "#Testing Accuracy on Test data\n",
    "import seaborn as sns\n",
    "print(\"Accuracy on test set: %0.3f%%\"%(accuracy_score(y_test, pred)*100))\n",
    "print(\"Precision on test set: %0.3f\"%(precision_score(y_test, pred)))\n",
    "print(\"Recall on test set: %0.3f\"%(recall_score(y_test, pred)))\n",
    "print(\"F1-Score on test set: %0.3f\"%(f1_score(y_test, pred)))\n",
    "print(\"Confusion Matrix of test set:\\n [ [TN  FN]\\n [FP TP] ]\\n\")\n",
    "df_cm = pd.DataFrame(confusion_matrix(y_test, pred), range(2),range(2))\n",
    "#sns.set(font_scale=1.4)#for label size\n",
    "sns.heatmap(df_cm, annot=True,annot_kws={\"size\": 16}, fmt='g')"
   ]
  },
  {
   "cell_type": "markdown",
   "metadata": {},
   "source": [
    "# Using kd-tree Alogorithm :-"
   ]
  },
  {
   "cell_type": "code",
   "execution_count": 53,
   "metadata": {},
   "outputs": [
    {
     "name": "stdout",
     "output_type": "stream",
     "text": [
      "\n",
      "The optimal number of neighbors is 9.\n"
     ]
    },
    {
     "data": {
      "image/png": "[encoded data removed]",
      "text/plain": [
       "<Figure size 432x288 with 1 Axes>"
      ]
     },
     "metadata": {},
     "output_type": "display_data"
    },
    {
     "name": "stdout",
     "output_type": "stream",
     "text": [
      "the misclassification error for each k value is :  [0.1818 0.1458 0.1386 0.137  0.1366 0.1367 0.137  0.1376 0.1377 0.1381\n",
      " 0.1383 0.1384 0.1385 0.1389 0.1393 0.1393 0.1397 0.1399 0.14   0.1401\n",
      " 0.14   0.1403 0.1405 0.1407 0.1408]\n",
      "Wall time: 4h 5min 9s\n"
     ]
    }
   ],
   "source": [
    "%%time\n",
    "# creating odd list of K for KNN\n",
    "myList = list(range(0,50))\n",
    "neighbors = list(filter(lambda x: x % 2 != 0, myList))\n",
    "\n",
    "# empty list that will hold cv scores\n",
    "cv_scores = []\n",
    "\n",
    "# perform 10-fold cross validation\n",
    "for k in neighbors:\n",
    "    knn = KNeighborsClassifier(n_neighbors=k,algorithm='kd_tree')\n",
    "    scores = cross_val_score(knn, train_sent_vectors, y_train, cv=10, scoring='accuracy')\n",
    "    cv_scores.append(scores.mean())\n",
    "\n",
    "# changing to misclassification error\n",
    "MSE = [1 - x for x in cv_scores]\n",
    "\n",
    "# determining best k\n",
    "optimal_k = neighbors[MSE.index(min(MSE))]\n",
    "print('\\nThe optimal number of neighbors is %d.' % optimal_k)\n",
    "\n",
    "# plot misclassification error vs k \n",
    "plt.plot(neighbors, MSE)\n",
    "\n",
    "for xy in zip(neighbors, np.round(MSE,3)):\n",
    "    plt.annotate('(%s, %s)' % xy, xy=xy, textcoords='data')\n",
    "\n",
    "plt.xlabel('Number of Neighbors K')\n",
    "plt.ylabel('Misclassification Error')\n",
    "plt.show()\n",
    "\n",
    "print(\"the misclassification error for each k value is : \", np.round(MSE,4))"
   ]
  },
  {
   "cell_type": "code",
   "execution_count": 54,
   "metadata": {},
   "outputs": [
    {
     "name": "stdout",
     "output_type": "stream",
     "text": [
      "\n",
      "The accuracy of the knn classifier for k = 9 is 86.083333%\n",
      "\n",
      "The misclassification error of test-dataset is 0.1392\n"
     ]
    }
   ],
   "source": [
    "# ============================== KNN with k = optimal_k ===============================================\n",
    "# instantiate learning model k = optimal_k\n",
    "knn_optimal = KNeighborsClassifier(n_neighbors=optimal_k)\n",
    "\n",
    "# fitting the model\n",
    "knn_optimal.fit(train_sent_vectors, y_train)\n",
    "\n",
    "# predict the response\n",
    "pred = knn_optimal.predict(Test_sent_vectors)\n",
    "\n",
    "# evaluate accuracy\n",
    "acc = accuracy_score(y_test, pred) * 100\n",
    "print('\\nThe accuracy of the knn classifier for k = %d is %f%%' % (optimal_k, acc))\n",
    "MSE = 1 - acc/100\n",
    "print('\\nThe misclassification error of test-dataset is', np.round(MSE,4))"
   ]
  },
  {
   "cell_type": "code",
   "execution_count": 55,
   "metadata": {},
   "outputs": [
    {
     "name": "stdout",
     "output_type": "stream",
     "text": [
      "Accuracy on test set: 86.083%\n",
      "Precision on test set: 0.865\n",
      "Recall on test set: 0.992\n",
      "F1-Score on test set: 0.924\n",
      "Confusion Matrix of test set:\n",
      " [ [TN  FN]\n",
      " [FP TP] ]\n",
      "\n"
     ]
    },
    {
     "data": {
      "text/plain": [
       "<matplotlib.axes._subplots.AxesSubplot at 0x3953c860>"
      ]
     },
     "execution_count": 55,
     "metadata": {},
     "output_type": "execute_result"
    },
    {
     "data": {
      "image/png": "[encoded data removed]",
      "text/plain": [
       "<Figure size 432x288 with 2 Axes>"
      ]
     },
     "metadata": {},
     "output_type": "display_data"
    }
   ],
   "source": [
    "#Testing Accuracy on Test data\n",
    "import seaborn as sns\n",
    "print(\"Accuracy on test set: %0.3f%%\"%(accuracy_score(y_test, pred)*100))\n",
    "print(\"Precision on test set: %0.3f\"%(precision_score(y_test, pred)))\n",
    "print(\"Recall on test set: %0.3f\"%(recall_score(y_test, pred)))\n",
    "print(\"F1-Score on test set: %0.3f\"%(f1_score(y_test, pred)))\n",
    "print(\"Confusion Matrix of test set:\\n [ [TN  FN]\\n [FP TP] ]\\n\")\n",
    "df_cm = pd.DataFrame(confusion_matrix(y_test, pred), range(2),range(2))\n",
    "#sns.set(font_scale=1.4)#for label size\n",
    "sns.heatmap(df_cm, annot=True,annot_kws={\"size\": 16}, fmt='g')"
   ]
  },
  {
   "cell_type": "markdown",
   "metadata": {},
   "source": [
    "# TFIDF-W2V"
   ]
  },
  {
   "cell_type": "code",
   "execution_count": 17,
   "metadata": {},
   "outputs": [],
   "source": [
    "from sklearn.feature_extraction.text import TfidfVectorizer\n",
    "from sklearn import preprocessing\n",
    "tfidf = TfidfVectorizer(ngram_range=(1,1)) #Using bi-grams\n",
    "tfidf_vec = tfidf.fit_transform(X_train)"
   ]
  },
  {
   "cell_type": "code",
   "execution_count": 18,
   "metadata": {},
   "outputs": [
    {
     "name": "stdout",
     "output_type": "stream",
     "text": [
      "(28000, 33812)\n"
     ]
    }
   ],
   "source": [
    "print(tfidf_vec.shape)"
   ]
  },
  {
   "cell_type": "code",
   "execution_count": 19,
   "metadata": {},
   "outputs": [],
   "source": [
    "tfidf_feat = tfidf.get_feature_names()"
   ]
  },
  {
   "cell_type": "code",
   "execution_count": 20,
   "metadata": {},
   "outputs": [
    {
     "name": "stdout",
     "output_type": "stream",
     "text": [
      "Wall time: 25min 18s\n"
     ]
    }
   ],
   "source": [
    "%%time\n",
    "# TF-IDF weighted Word2Vec\n",
    "# tfidf words/col-names\n",
    "# final_tf_idf is the sparse matrix with row= sentence, col=word and cell_val = tfidf\n",
    "train_tfidf_sent_vectors = []; # the tfidf-w2v for each sentence/review is stored in this list\n",
    "row=0;\n",
    "for sent in train_list_of_sent: # for each review/sentence\n",
    "    sent_vec = np.zeros(300) # as word vectors are of zero length\n",
    "    weight_sum =0; # num of words with a valid vector in the sentence/review\n",
    "    for word in sent: # for each word in a review/sentence\n",
    "        try:\n",
    "            vec = model.wv[word]\n",
    "            #print(vec)\n",
    "            # obtain the tf_idfidf of a word in a sentence/review\n",
    "            tfidf = tfidf_vec[row, tfidf_feat.index(word)]\n",
    "            #print()\n",
    "            sent_vec += (vec * tfidf)\n",
    "            #print(sent_vec)\n",
    "            #print(tfidf)\n",
    "            #print(sent_vec)\n",
    "            weight_sum += tfidf\n",
    "        except:\n",
    "            pass\n",
    "    sent_vec /= weight_sum\n",
    "    train_tfidf_sent_vectors.append(sent_vec)\n",
    "    row += 1\n"
   ]
  },
  {
   "cell_type": "code",
   "execution_count": 21,
   "metadata": {},
   "outputs": [],
   "source": [
    "train_tfidf_sent_vectors = np.array(train_tfidf_sent_vectors)"
   ]
  },
  {
   "cell_type": "code",
   "execution_count": 22,
   "metadata": {},
   "outputs": [
    {
     "data": {
      "text/plain": [
       "False"
      ]
     },
     "execution_count": 22,
     "metadata": {},
     "output_type": "execute_result"
    }
   ],
   "source": [
    "np.isnan(train_tfidf_sent_vectors).any()"
   ]
  },
  {
   "cell_type": "code",
   "execution_count": 23,
   "metadata": {},
   "outputs": [],
   "source": [
    "from sklearn.feature_extraction.text import TfidfVectorizer\n",
    "from sklearn import preprocessing\n",
    "tfidf = TfidfVectorizer(ngram_range=(1,1)) #Using bi-grams\n",
    "tfidf_test_vec = tfidf.fit_transform(X_test)"
   ]
  },
  {
   "cell_type": "code",
   "execution_count": 24,
   "metadata": {},
   "outputs": [],
   "source": [
    "tfidf_test_feat = tfidf.get_feature_names()"
   ]
  },
  {
   "cell_type": "code",
   "execution_count": 25,
   "metadata": {},
   "outputs": [
    {
     "name": "stdout",
     "output_type": "stream",
     "text": [
      "(12000, 22768)\n"
     ]
    }
   ],
   "source": [
    "print(tfidf_test_vec.shape)"
   ]
  },
  {
   "cell_type": "code",
   "execution_count": 26,
   "metadata": {},
   "outputs": [
    {
     "name": "stdout",
     "output_type": "stream",
     "text": [
      "Wall time: 7min 21s\n"
     ]
    }
   ],
   "source": [
    "%%time\n",
    "# TF-IDF weighted Word2Vec\n",
    "# tfidf words/col-names\n",
    "# final_tf_idf is the sparse matrix with row= sentence, col=word and cell_val = tfidf\n",
    "test_tfidf_sent_vectors = []; # the tfidf-w2v for each sentence/review is stored in this list\n",
    "row=0;\n",
    "for sent in Test_list_of_sent: # for each review/sentence\n",
    "    sent_vec = np.zeros(300) # as word vectors are of zero length\n",
    "    weight_sum =0; # num of words with a valid vector in the sentence/review\n",
    "    for word in sent: # for each word in a review/sentence\n",
    "        try:\n",
    "            vec = model.wv[word]\n",
    "            #print(vec)\n",
    "            # obtain the tf_idfidf of a word in a sentence/review\n",
    "            tfidf = tfidf_test_vec[row, tfidf_test_feat.index(word)]\n",
    "            #print()\n",
    "            sent_vec += (vec * tfidf)\n",
    "            #print(sent_vec)\n",
    "            #print(tfidf)\n",
    "            #print(sent_vec)\n",
    "            weight_sum += tfidf\n",
    "        except:\n",
    "            pass\n",
    "    sent_vec /= weight_sum\n",
    "    test_tfidf_sent_vectors.append(sent_vec)\n",
    "    row += 1"
   ]
  },
  {
   "cell_type": "code",
   "execution_count": 27,
   "metadata": {},
   "outputs": [],
   "source": [
    "test_tfidf_sent_vectors = np.array(test_tfidf_sent_vectors)"
   ]
  },
  {
   "cell_type": "code",
   "execution_count": 28,
   "metadata": {},
   "outputs": [
    {
     "data": {
      "text/plain": [
       "True"
      ]
     },
     "execution_count": 28,
     "metadata": {},
     "output_type": "execute_result"
    }
   ],
   "source": [
    "np.isnan(test_tfidf_sent_vectors).any()"
   ]
  },
  {
   "cell_type": "code",
   "execution_count": 32,
   "metadata": {},
   "outputs": [],
   "source": [
    "from sklearn.preprocessing import Imputer\n",
    "mean_imputer = Imputer(missing_values='NaN', strategy='median')\n",
    "test_tfidf_sent_vectors = mean_imputer.fit_transform(test_tfidf_sent_vectors)"
   ]
  },
  {
   "cell_type": "code",
   "execution_count": 33,
   "metadata": {},
   "outputs": [
    {
     "data": {
      "text/plain": [
       "False"
      ]
     },
     "execution_count": 33,
     "metadata": {},
     "output_type": "execute_result"
    }
   ],
   "source": [
    "np.isnan(test_tfidf_sent_vectors).any()"
   ]
  },
  {
   "cell_type": "markdown",
   "metadata": {},
   "source": [
    "# 10 fold cross validation On TfIDF-W2v"
   ]
  },
  {
   "cell_type": "markdown",
   "metadata": {},
   "source": [
    "# Using brute-force Alogorithm :-"
   ]
  },
  {
   "cell_type": "code",
   "execution_count": 34,
   "metadata": {},
   "outputs": [
    {
     "name": "stdout",
     "output_type": "stream",
     "text": [
      "\n",
      "The optimal number of neighbors is 9.\n"
     ]
    },
    {
     "data": {
      "image/png": "[encoded data removed]",
      "text/plain": [
       "<Figure size 432x288 with 1 Axes>"
      ]
     },
     "metadata": {},
     "output_type": "display_data"
    },
    {
     "name": "stdout",
     "output_type": "stream",
     "text": [
      "the misclassification error for each k value is :  [0.192  0.1532 0.1422 0.1398 0.1368 0.1368 0.1377 0.1382 0.1381 0.1383\n",
      " 0.1384 0.1386 0.1387 0.139  0.1392 0.1395 0.1396 0.1398 0.1397 0.1401\n",
      " 0.1403 0.1403 0.1406 0.1407 0.1409]\n",
      "Wall time: 14min 34s\n"
     ]
    }
   ],
   "source": [
    "%%time\n",
    "# creating odd list of K for KNN\n",
    "myList = list(range(0,50))\n",
    "neighbors = list(filter(lambda x: x % 2 != 0, myList))\n",
    "\n",
    "# empty list that will hold cv scores\n",
    "cv_scores = []\n",
    "\n",
    "# perform 10-fold cross validation\n",
    "for k in neighbors:\n",
    "    knn = KNeighborsClassifier(n_neighbors=k,algorithm='brute')\n",
    "    scores = cross_val_score(knn, train_tfidf_sent_vectors, y_train, cv=10, scoring='accuracy')\n",
    "    cv_scores.append(scores.mean())\n",
    "\n",
    "# changing to misclassification error\n",
    "MSE = [1 - x for x in cv_scores]\n",
    "\n",
    "# determining best k\n",
    "optimal_k = neighbors[MSE.index(min(MSE))]\n",
    "print('\\nThe optimal number of neighbors is %d.' % optimal_k)\n",
    "\n",
    "# plot misclassification error vs k \n",
    "plt.plot(neighbors, MSE)\n",
    "\n",
    "for xy in zip(neighbors, np.round(MSE,3)):\n",
    "    plt.annotate('(%s, %s)' % xy, xy=xy, textcoords='data')\n",
    "\n",
    "plt.xlabel('Number of Neighbors K')\n",
    "plt.ylabel('Misclassification Error')\n",
    "plt.show()\n",
    "\n",
    "print(\"the misclassification error for each k value is : \", np.round(MSE,4))"
   ]
  },
  {
   "cell_type": "code",
   "execution_count": 35,
   "metadata": {},
   "outputs": [
    {
     "name": "stdout",
     "output_type": "stream",
     "text": [
      "\n",
      "The accuracy of the knn classifier for k = 9 is 85.633333%\n",
      "\n",
      "The misclassification error of test-dataset is 0.1437\n"
     ]
    }
   ],
   "source": [
    "# ============================== KNN with k = optimal_k ===============================================\n",
    "# instantiate learning model k = optimal_k\n",
    "knn_optimal = KNeighborsClassifier(n_neighbors=optimal_k)\n",
    "\n",
    "# fitting the model\n",
    "knn_optimal.fit(train_tfidf_sent_vectors, y_train)\n",
    "\n",
    "# predict the response\n",
    "pred = knn_optimal.predict(test_tfidf_sent_vectors)\n",
    "\n",
    "# evaluate accuracy\n",
    "acc = accuracy_score(y_test, pred) * 100\n",
    "print('\\nThe accuracy of the knn classifier for k = %d is %f%%' % (optimal_k, acc))\n",
    "MSE = 1 - acc/100\n",
    "print('\\nThe misclassification error of test-dataset is', np.round(MSE,4))"
   ]
  },
  {
   "cell_type": "code",
   "execution_count": 36,
   "metadata": {},
   "outputs": [
    {
     "name": "stdout",
     "output_type": "stream",
     "text": [
      "Accuracy on test set: 85.633%\n",
      "Precision on test set: 0.862\n",
      "Recall on test set: 0.990\n",
      "F1-Score on test set: 0.922\n",
      "Confusion Matrix of test set:\n",
      " [ [TN  FN]\n",
      " [FP TP] ]\n",
      "\n"
     ]
    },
    {
     "data": {
      "text/plain": [
       "<matplotlib.axes._subplots.AxesSubplot at 0x3df53cf8>"
      ]
     },
     "execution_count": 36,
     "metadata": {},
     "output_type": "execute_result"
    },
    {
     "data": {
      "image/png": "[encoded data removed]",
      "text/plain": [
       "<Figure size 432x288 with 2 Axes>"
      ]
     },
     "metadata": {},
     "output_type": "display_data"
    }
   ],
   "source": [
    "#Testing Accuracy on Test data\n",
    "import seaborn as sns\n",
    "print(\"Accuracy on test set: %0.3f%%\"%(accuracy_score(y_test, pred)*100))\n",
    "print(\"Precision on test set: %0.3f\"%(precision_score(y_test, pred)))\n",
    "print(\"Recall on test set: %0.3f\"%(recall_score(y_test, pred)))\n",
    "print(\"F1-Score on test set: %0.3f\"%(f1_score(y_test, pred)))\n",
    "print(\"Confusion Matrix of test set:\\n [ [TN  FN]\\n [FP TP] ]\\n\")\n",
    "df_cm = pd.DataFrame(confusion_matrix(y_test, pred), range(2),range(2))\n",
    "#sns.set(font_scale=1.4)#for label size\n",
    "sns.heatmap(df_cm, annot=True,annot_kws={\"size\": 16}, fmt='g')"
   ]
  },
  {
   "cell_type": "markdown",
   "metadata": {},
   "source": [
    "# Using kd-tree Alogorithm :-"
   ]
  },
  {
   "cell_type": "code",
   "execution_count": 37,
   "metadata": {},
   "outputs": [
    {
     "name": "stdout",
     "output_type": "stream",
     "text": [
      "\n",
      "The optimal number of neighbors is 9.\n"
     ]
    },
    {
     "data": {
      "image/png": "[encoded data removed]",
      "text/plain": [
       "<Figure size 432x288 with 1 Axes>"
      ]
     },
     "metadata": {},
     "output_type": "display_data"
    },
    {
     "name": "stdout",
     "output_type": "stream",
     "text": [
      "the misclassification error for each k value is :  [0.192  0.1532 0.1422 0.1398 0.1368 0.1368 0.1377 0.1382 0.1381 0.1383\n",
      " 0.1384 0.1386 0.1387 0.139  0.1392 0.1395 0.1396 0.1398 0.1397 0.1401\n",
      " 0.1403 0.1403 0.1406 0.1407 0.1409]\n",
      "Wall time: 4h 5min 9s\n"
     ]
    }
   ],
   "source": [
    "%%time\n",
    "# creating odd list of K for KNN\n",
    "myList = list(range(0,50))\n",
    "neighbors = list(filter(lambda x: x % 2 != 0, myList))\n",
    "\n",
    "# empty list that will hold cv scores\n",
    "cv_scores = []\n",
    "\n",
    "# perform 10-fold cross validation\n",
    "for k in neighbors:\n",
    "    knn = KNeighborsClassifier(n_neighbors=k,algorithm='kd_tree')\n",
    "    scores = cross_val_score(knn, train_tfidf_sent_vectors, y_train, cv=10, scoring='accuracy')\n",
    "    cv_scores.append(scores.mean())\n",
    "\n",
    "# changing to misclassification error\n",
    "MSE = [1 - x for x in cv_scores]\n",
    "\n",
    "# determining best k\n",
    "optimal_k = neighbors[MSE.index(min(MSE))]\n",
    "print('\\nThe optimal number of neighbors is %d.' % optimal_k)\n",
    "\n",
    "# plot misclassification error vs k \n",
    "plt.plot(neighbors, MSE)\n",
    "\n",
    "for xy in zip(neighbors, np.round(MSE,3)):\n",
    "    plt.annotate('(%s, %s)' % xy, xy=xy, textcoords='data')\n",
    "\n",
    "plt.xlabel('Number of Neighbors K')\n",
    "plt.ylabel('Misclassification Error')\n",
    "plt.show()\n",
    "\n",
    "print(\"the misclassification error for each k value is : \", np.round(MSE,4))"
   ]
  },
  {
   "cell_type": "code",
   "execution_count": 38,
   "metadata": {},
   "outputs": [
    {
     "name": "stdout",
     "output_type": "stream",
     "text": [
      "\n",
      "The accuracy of the knn classifier for k = 9 is 85.633333%\n",
      "\n",
      "The misclassification error of test-dataset is 0.1437\n"
     ]
    }
   ],
   "source": [
    "# ============================== KNN with k = optimal_k ===============================================\n",
    "# instantiate learning model k = optimal_k\n",
    "knn_optimal = KNeighborsClassifier(n_neighbors=optimal_k)\n",
    "\n",
    "# fitting the model\n",
    "knn_optimal.fit(train_tfidf_sent_vectors, y_train)\n",
    "\n",
    "# predict the response\n",
    "pred = knn_optimal.predict(test_tfidf_sent_vectors)\n",
    "\n",
    "# evaluate accuracy\n",
    "acc = accuracy_score(y_test, pred) * 100\n",
    "print('\\nThe accuracy of the knn classifier for k = %d is %f%%' % (optimal_k, acc))\n",
    "MSE = 1 - acc/100\n",
    "print('\\nThe misclassification error of test-dataset is', np.round(MSE,4))"
   ]
  },
  {
   "cell_type": "code",
   "execution_count": 39,
   "metadata": {},
   "outputs": [
    {
     "name": "stdout",
     "output_type": "stream",
     "text": [
      "Accuracy on test set: 85.633%\n",
      "Precision on test set: 0.862\n",
      "Recall on test set: 0.990\n",
      "F1-Score on test set: 0.922\n",
      "Confusion Matrix of test set:\n",
      " [ [TN  FN]\n",
      " [FP TP] ]\n",
      "\n"
     ]
    },
    {
     "data": {
      "text/plain": [
       "<matplotlib.axes._subplots.AxesSubplot at 0x3dfd26d8>"
      ]
     },
     "execution_count": 39,
     "metadata": {},
     "output_type": "execute_result"
    },
    {
     "data": {
      "image/png": "[encoded data removed]",
      "text/plain": [
       "<Figure size 432x288 with 2 Axes>"
      ]
     },
     "metadata": {},
     "output_type": "display_data"
    }
   ],
   "source": [
    "#Testing Accuracy on Test data\n",
    "import seaborn as sns\n",
    "print(\"Accuracy on test set: %0.3f%%\"%(accuracy_score(y_test, pred)*100))\n",
    "print(\"Precision on test set: %0.3f\"%(precision_score(y_test, pred)))\n",
    "print(\"Recall on test set: %0.3f\"%(recall_score(y_test, pred)))\n",
    "print(\"F1-Score on test set: %0.3f\"%(f1_score(y_test, pred)))\n",
    "print(\"Confusion Matrix of test set:\\n [ [TN  FN]\\n [FP TP] ]\\n\")\n",
    "df_cm = pd.DataFrame(confusion_matrix(y_test, pred), range(2),range(2))\n",
    "#sns.set(font_scale=1.4)#for label size\n",
    "sns.heatmap(df_cm, annot=True,annot_kws={\"size\": 16}, fmt='g')"
   ]
  },
  {
   "cell_type": "markdown",
   "metadata": {},
   "source": [
    "# Performance Table"
   ]
  },
  {
   "cell_type": "code",
   "execution_count": 42,
   "metadata": {},
   "outputs": [
    {
     "name": "stdout",
     "output_type": "stream",
     "text": [
      "+-----------+-----------------+------------+------------+----------+\n",
      "|   Model   | hyper parameter | Train eror | Test error | F1-Score |\n",
      "+-----------+-----------------+------------+------------+----------+\n",
      "|    BOW    |        13       |   0.1298   |   0.1329   |  0.927   |\n",
      "|   TF-IDF  |        11       |   0.1329   |   0.1302   |  0.929   |\n",
      "|  Avg w2v  |        9        |   0.1366   |   0.1392   |  0.924   |\n",
      "| Tfidf-w2v |        9        |   0.1368   |   0.1437   |  0.922   |\n",
      "+-----------+-----------------+------------+------------+----------+\n"
     ]
    }
   ],
   "source": [
    "from prettytable import PrettyTable\n",
    "x = PrettyTable()\n",
    "\n",
    "x.field_names = [\"Model\",\"hyper parameter\", \"Train eror\",\"Test error\",\"F1-Score\"]\n",
    "\n",
    "x.add_row([\"BOW\", 13, 0.1298, 0.1329,0.927])\n",
    "x.add_row([\"TF-IDF\", 11, 0.1329, 0.1302,0.929])\n",
    "x.add_row([\"Avg w2v\", 9, 0.1366, 0.1392,0.924])\n",
    "x.add_row([\"Tfidf-w2v\", 9, 0.1368, 0.1437,0.922])\n",
    "\n",
    "print(x)"
   ]
  },
  {
   "cell_type": "markdown",
   "metadata": {},
   "source": [
    "# Conclusions"
   ]
  },
  {
   "cell_type": "markdown",
   "metadata": {},
   "source": [
    "1. Form above performance table we can able to see that among all the model TF-IDF has greater performance(f1-score=0.929 and testerror=0.1302).\n",
    "2. It may differ if we go for more point as i use 40k datapoints i got the above result.\n",
    "3. Both brute-force and kd-tree alog givng same result . But k-dtree is slow as compare to brtue-force"
   ]
  }
 ],
 "metadata": {
  "kernelspec": {
   "display_name": "Python 3",
   "language": "python",
   "name": "python3"
  },
  "language_info": {
   "codemirror_mode": {
    "name": "ipython",
    "version": 3
   },
   "file_extension": ".py",
   "mimetype": "text/x-python",
   "name": "python",
   "nbconvert_exporter": "python",
   "pygments_lexer": "ipython3",
   "version": "3.6.5"
  }
 },
 "nbformat": 4,
 "nbformat_minor": 2
}
